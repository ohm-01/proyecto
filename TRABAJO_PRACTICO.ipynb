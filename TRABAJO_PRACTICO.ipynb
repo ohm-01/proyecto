{
 "cells": [
  {
   "cell_type": "markdown",
   "metadata": {},
   "source": [
    "# TRABAJO PRACTICO \n",
    "##  Estudio Nacional sobre el Perfil de las Personas con Discapacidad"
   ]
  },
  {
   "cell_type": "code",
   "execution_count": 1,
   "metadata": {},
   "outputs": [],
   "source": [
    "# importamos las librerías necesarias para trabajar.\n",
    "\n",
    "#Datos\n",
    "import pandas as pd\n",
    "import numpy as np\n",
    "\n",
    "#Graficos \n",
    "import matplotlib.pyplot as plt\n",
    "import seaborn as sns\n",
    "\n",
    "#Otros \n",
    "import warnings\n",
    "warnings.filterwarnings('ignore')"
   ]
  },
  {
   "cell_type": "raw",
   "metadata": {},
   "source": [
    "# importamos librerias de scikit learn para clasificacion y modelos de SVM.\n",
    "from sklearn import svm\n",
    "from sklearn.svm import SVC\n",
    "from sklearn.model_selection import train_test_split\n",
    "from sklearn.metrics import accuracy_score\n",
    "from sklearn.model_selection import cross_val_score\n",
    "from sklearn.metrics import roc_curve, auc\n",
    "from sklearn import metrics\n",
    "from sklearn.model_selection import GridSearchCV\n",
    "from sklearn.metrics import confusion_matrix"
   ]
  },
  {
   "cell_type": "raw",
   "metadata": {},
   "source": [
    "# importamos librearias de Logistic Regression\n",
    "from sklearn.linear_model import LogisticRegression"
   ]
  },
  {
   "cell_type": "raw",
   "metadata": {},
   "source": [
    "#Importamos librerias de Feature Selection\n",
    "from sklearn.feature_selection import RFECV\n",
    "from sklearn import linear_model\n",
    "from sklearn.linear_model import LassoCV, LassoLarsCV, LassoLarsIC\n",
    "from sklearn.linear_model import Lasso\n",
    "from sklearn.linear_model import lasso_path\n",
    "from sklearn.feature_selection import VarianceThreshold"
   ]
  },
  {
   "cell_type": "raw",
   "metadata": {},
   "source": [
    "# Importamos librerias de PCA\n",
    "from sklearn.decomposition import PCA\n"
   ]
  },
  {
   "cell_type": "markdown",
   "metadata": {},
   "source": [
    "pwd"
   ]
  },
  {
   "cell_type": "markdown",
   "metadata": {},
   "source": [
    "ls\n"
   ]
  },
  {
   "cell_type": "markdown",
   "metadata": {},
   "source": [
    "# Importamos dataset de Base de estudios de discapacidad 2018"
   ]
  },
  {
   "cell_type": "code",
   "execution_count": 2,
   "metadata": {},
   "outputs": [],
   "source": [
    "base_datos = pd.read_csv('base_estudio_discapacidad_2018.csv', engine = 'python', error_bad_lines=False, delimiter= ';')\n",
    "# el delimiter indica como estan separadas las columnas en el dataframe"
   ]
  },
  {
   "cell_type": "code",
   "execution_count": 3,
   "metadata": {},
   "outputs": [
    {
     "data": {
      "text/plain": [
       "(82327, 35)"
      ]
     },
     "execution_count": 3,
     "metadata": {},
     "output_type": "execute_result"
    }
   ],
   "source": [
    "# con esto veo el tamaño del data frame\n",
    "np.shape(base_datos)\n"
   ]
  },
  {
   "cell_type": "code",
   "execution_count": 4,
   "metadata": {
    "scrolled": true
   },
   "outputs": [
    {
     "data": {
      "text/html": [
       "<div>\n",
       "<style scoped>\n",
       "    .dataframe tbody tr th:only-of-type {\n",
       "        vertical-align: middle;\n",
       "    }\n",
       "\n",
       "    .dataframe tbody tr th {\n",
       "        vertical-align: top;\n",
       "    }\n",
       "\n",
       "    .dataframe thead th {\n",
       "        text-align: right;\n",
       "    }\n",
       "</style>\n",
       "<table border=\"1\" class=\"dataframe\">\n",
       "  <thead>\n",
       "    <tr style=\"text-align: right;\">\n",
       "      <th></th>\n",
       "      <th>ID</th>\n",
       "      <th>pondera</th>\n",
       "      <th>personas_hogar</th>\n",
       "      <th>hogar_dificultad</th>\n",
       "      <th>personas_dificultad_hogar</th>\n",
       "      <th>tipo_hogar</th>\n",
       "      <th>pa01</th>\n",
       "      <th>Relación de parentesco</th>\n",
       "      <th>Sexo</th>\n",
       "      <th>edad_grandes_grupos</th>\n",
       "      <th>...</th>\n",
       "      <th>Sabe leer y escribir</th>\n",
       "      <th>Asiste a establecimiento educativo</th>\n",
       "      <th>Modalidad educativa de asistencia actual y pasada</th>\n",
       "      <th>Máximo nivel educativo alcanzado</th>\n",
       "      <th>Principal motivo de no cursar actualmente/nunca cursó</th>\n",
       "      <th>Convive en pareja</th>\n",
       "      <th>Estado civil legal</th>\n",
       "      <th>Motivo principal por el que no busco trabajo</th>\n",
       "      <th>Condición de actividad</th>\n",
       "      <th>Categoría ocupacional</th>\n",
       "    </tr>\n",
       "  </thead>\n",
       "  <tbody>\n",
       "    <tr>\n",
       "      <th>0</th>\n",
       "      <td>1</td>\n",
       "      <td>413</td>\n",
       "      <td>4</td>\n",
       "      <td>Hogares sin personas con dificultad</td>\n",
       "      <td></td>\n",
       "      <td>Hogar multipersonal familiar nuclear</td>\n",
       "      <td>1</td>\n",
       "      <td>Jefe/a</td>\n",
       "      <td>Varón</td>\n",
       "      <td>15 a 64</td>\n",
       "      <td>...</td>\n",
       "      <td></td>\n",
       "      <td></td>\n",
       "      <td></td>\n",
       "      <td></td>\n",
       "      <td></td>\n",
       "      <td></td>\n",
       "      <td></td>\n",
       "      <td></td>\n",
       "      <td></td>\n",
       "      <td></td>\n",
       "    </tr>\n",
       "    <tr>\n",
       "      <th>1</th>\n",
       "      <td>2</td>\n",
       "      <td>473</td>\n",
       "      <td>5</td>\n",
       "      <td>Hogares sin personas con dificultad</td>\n",
       "      <td></td>\n",
       "      <td>Hogar multipersonal familiar nuclear</td>\n",
       "      <td>3</td>\n",
       "      <td>Hija(o)/ hijastra(o)</td>\n",
       "      <td>Varón</td>\n",
       "      <td>15 a 64</td>\n",
       "      <td>...</td>\n",
       "      <td></td>\n",
       "      <td></td>\n",
       "      <td></td>\n",
       "      <td></td>\n",
       "      <td></td>\n",
       "      <td></td>\n",
       "      <td></td>\n",
       "      <td></td>\n",
       "      <td></td>\n",
       "      <td></td>\n",
       "    </tr>\n",
       "    <tr>\n",
       "      <th>2</th>\n",
       "      <td>3</td>\n",
       "      <td>473</td>\n",
       "      <td>5</td>\n",
       "      <td>Hogares sin personas con dificultad</td>\n",
       "      <td></td>\n",
       "      <td>Hogar multipersonal familiar nuclear</td>\n",
       "      <td>4</td>\n",
       "      <td>Hija(o)/ hijastra(o)</td>\n",
       "      <td>Varón</td>\n",
       "      <td>15 a 64</td>\n",
       "      <td>...</td>\n",
       "      <td></td>\n",
       "      <td></td>\n",
       "      <td></td>\n",
       "      <td></td>\n",
       "      <td></td>\n",
       "      <td></td>\n",
       "      <td></td>\n",
       "      <td></td>\n",
       "      <td></td>\n",
       "      <td></td>\n",
       "    </tr>\n",
       "    <tr>\n",
       "      <th>3</th>\n",
       "      <td>4</td>\n",
       "      <td>473</td>\n",
       "      <td>5</td>\n",
       "      <td>Hogares sin personas con dificultad</td>\n",
       "      <td></td>\n",
       "      <td>Hogar multipersonal familiar nuclear</td>\n",
       "      <td>5</td>\n",
       "      <td>Hija(o)/ hijastra(o)</td>\n",
       "      <td>Varón</td>\n",
       "      <td>0 a 14</td>\n",
       "      <td>...</td>\n",
       "      <td></td>\n",
       "      <td></td>\n",
       "      <td></td>\n",
       "      <td></td>\n",
       "      <td></td>\n",
       "      <td></td>\n",
       "      <td></td>\n",
       "      <td></td>\n",
       "      <td></td>\n",
       "      <td></td>\n",
       "    </tr>\n",
       "    <tr>\n",
       "      <th>4</th>\n",
       "      <td>5</td>\n",
       "      <td>409</td>\n",
       "      <td>3</td>\n",
       "      <td>Hogares con personas con dificultad</td>\n",
       "      <td>1</td>\n",
       "      <td>Hogar multipersonal familiar extendido</td>\n",
       "      <td>1</td>\n",
       "      <td>Jefe/a</td>\n",
       "      <td>Mujer</td>\n",
       "      <td>15 a 64</td>\n",
       "      <td>...</td>\n",
       "      <td></td>\n",
       "      <td></td>\n",
       "      <td></td>\n",
       "      <td></td>\n",
       "      <td></td>\n",
       "      <td></td>\n",
       "      <td></td>\n",
       "      <td></td>\n",
       "      <td></td>\n",
       "      <td></td>\n",
       "    </tr>\n",
       "  </tbody>\n",
       "</table>\n",
       "<p>5 rows × 35 columns</p>\n",
       "</div>"
      ],
      "text/plain": [
       "   ID  pondera  personas_hogar                     hogar_dificultad  \\\n",
       "0   1      413               4  Hogares sin personas con dificultad   \n",
       "1   2      473               5  Hogares sin personas con dificultad   \n",
       "2   3      473               5  Hogares sin personas con dificultad   \n",
       "3   4      473               5  Hogares sin personas con dificultad   \n",
       "4   5      409               3  Hogares con personas con dificultad   \n",
       "\n",
       "  personas_dificultad_hogar                              tipo_hogar  pa01  \\\n",
       "0                              Hogar multipersonal familiar nuclear     1   \n",
       "1                              Hogar multipersonal familiar nuclear     3   \n",
       "2                              Hogar multipersonal familiar nuclear     4   \n",
       "3                              Hogar multipersonal familiar nuclear     5   \n",
       "4                         1  Hogar multipersonal familiar extendido     1   \n",
       "\n",
       "  Relación de parentesco   Sexo edad_grandes_grupos          ...           \\\n",
       "0                 Jefe/a  Varón             15 a 64          ...            \n",
       "1   Hija(o)/ hijastra(o)  Varón             15 a 64          ...            \n",
       "2   Hija(o)/ hijastra(o)  Varón             15 a 64          ...            \n",
       "3   Hija(o)/ hijastra(o)  Varón              0 a 14          ...            \n",
       "4                 Jefe/a  Mujer             15 a 64          ...            \n",
       "\n",
       "  Sabe leer y escribir  Asiste a establecimiento educativo  \\\n",
       "0                                                            \n",
       "1                                                            \n",
       "2                                                            \n",
       "3                                                            \n",
       "4                                                            \n",
       "\n",
       "   Modalidad educativa de asistencia actual y pasada  \\\n",
       "0                                                      \n",
       "1                                                      \n",
       "2                                                      \n",
       "3                                                      \n",
       "4                                                      \n",
       "\n",
       "   Máximo nivel educativo alcanzado  \\\n",
       "0                                     \n",
       "1                                     \n",
       "2                                     \n",
       "3                                     \n",
       "4                                     \n",
       "\n",
       "  Principal motivo de no cursar actualmente/nunca cursó Convive en pareja  \\\n",
       "0                                                                           \n",
       "1                                                                           \n",
       "2                                                                           \n",
       "3                                                                           \n",
       "4                                                                           \n",
       "\n",
       "  Estado civil legal Motivo principal por el que no busco trabajo  \\\n",
       "0                                                                   \n",
       "1                                                                   \n",
       "2                                                                   \n",
       "3                                                                   \n",
       "4                                                                   \n",
       "\n",
       "  Condición de actividad Categoría ocupacional  \n",
       "0                                               \n",
       "1                                               \n",
       "2                                               \n",
       "3                                               \n",
       "4                                               \n",
       "\n",
       "[5 rows x 35 columns]"
      ]
     },
     "execution_count": 4,
     "metadata": {},
     "output_type": "execute_result"
    }
   ],
   "source": [
    "# con .head veo las prrimeras 5 filas del dataframe\n",
    "# con .tail veo el final del data frame\n",
    "\n",
    "base_datos.head()"
   ]
  },
  {
   "cell_type": "markdown",
   "metadata": {},
   "source": [
    "### Columnas\n",
    "Si queremos saber el nombre de las columas en una variable utilizamos el metodo *.columns()*.\n",
    "\n",
    "Para guardarlo, simplemente lo asignamos a una variable.\n"
   ]
  },
  {
   "cell_type": "code",
   "execution_count": 5,
   "metadata": {},
   "outputs": [
    {
     "data": {
      "text/plain": [
       "array(['ID', 'pondera', 'personas_hogar', 'hogar_dificultad',\n",
       "       'personas_dificultad_hogar', 'tipo_hogar', 'pa01',\n",
       "       'Relación de parentesco', 'Sexo', 'edad_grandes_grupos',\n",
       "       'edad_agrupada', 'imputadoB', 'imputadoC', 'imputadoD',\n",
       "       'Personas de 6 años y más con dificultad',\n",
       "       'Personas con dificultad considerando toda la población',\n",
       "       'Cantidad de dificultades', 'Cantidad y tipo de dificultad',\n",
       "       'certificado', 'Comienzo de la dificultad', 'edad_inicio',\n",
       "       'Causa de la dificultad', 'Cobertura de salud',\n",
       "       'Recibe jubilación o pensión',\n",
       "       'Tipo de beneficioSabe leer y escribir que recibe',\n",
       "       'Sabe leer y escribir', 'Asiste a establecimiento educativo',\n",
       "       'Modalidad educativa de asistencia actual y pasada',\n",
       "       'Máximo nivel educativo alcanzado',\n",
       "       'Principal motivo de no cursar actualmente/nunca cursó',\n",
       "       'Convive en pareja', 'Estado civil legal',\n",
       "       'Motivo principal por el que no busco trabajo',\n",
       "       'Condición de actividad', 'Categoría ocupacional'], dtype=object)"
      ]
     },
     "execution_count": 5,
     "metadata": {},
     "output_type": "execute_result"
    }
   ],
   "source": [
    "nombre_columnas = base_datos.columns.values\n",
    "nombre_columnas"
   ]
  },
  {
   "cell_type": "markdown",
   "metadata": {},
   "source": [
    "# 1.0 limpiamos los datos\n",
    "\n",
    "En esta parte nos vamos a encargar de limpiar:\n",
    "\n",
    "* Duplicados  --> [.drop_duplicates()](https://pandas.pydata.org/pandas-docs/stable/reference/api/pandas.DataFrame.drop_duplicates.html) Elimina registros con duplicados\n",
    "\n",
    "\n",
    "* 1.1) Simbolos --> [str.replace](https://pandas.pydata.org/pandas-docs/stable/reference/api/pandas.Series.str.replace.html) and [str.extract](https://pandas.pydata.org/pandas-docs/stable/reference/api/pandas.Series.str.extract.html)\n",
    "\n",
    "\n",
    "\n",
    "* 1.2)'NaN' --> [.dropna()](https://pandas.pydata.org/pandas-docs/stable/reference/api/pandas.DataFrame.dropna.html)\n",
    "\n",
    "\n",
    "\n",
    "* 1.3) Cantidad y % de NaN por columna\n",
    "\n",
    "\n",
    "* Luego de quitarlos, devolver shape del df"
   ]
  },
  {
   "cell_type": "markdown",
   "metadata": {},
   "source": [
    "##  1.1 duplicados"
   ]
  },
  {
   "cell_type": "code",
   "execution_count": null,
   "metadata": {},
   "outputs": [],
   "source": [
    "\n",
    "\n",
    "# Vamos a eliminar las de la columna 'App' los valores repetidos, conservando unicamente la primera ocurrencia.\n",
    "base_datos.drop_duplicates(subset='pondera', inplace=True, keep='first')\n",
    "\n",
    "# Las columnas para quitar los duplicados se indican en el argumento 'subset'\n",
    "# mientras que la primera ocurrencia se indica con el argumento 'keep'\n",
    "\n",
    "# La opcion 'inplace' nos evitar tener asignar la salida a una variable.\n",
    "# Directamente se guarda sobre 'base_datos'. Equivale a:\n",
    "\n",
    "base_datos = base_datos.drop_duplicates(subset='pondera', keep='first')\n",
    "\n",
    "\n"
   ]
  },
  {
   "cell_type": "markdown",
   "metadata": {},
   "source": [
    "## 1.2 Simbolos\n",
    "Las columnas 'Installs', 'Size', 'Price' y 'Reviews' tienen informacion en la que estamos interesados.\n",
    "\n",
    "El problema es que estan en formato texto (o *string*) y hay simbolos y valores que nos impiden manipularlos en formato numerico ( *int* o *float*)El problema es que estan en formato texto (o *string*) y hay simbolos y valores que nos impiden manipularlos en formato numerico ( *int* o *float*)\n",
    "\n",
    "\n",
    "para el caso en particular no contiene simbolos como \"+\" o \",\"\n"
   ]
  },
  {
   "cell_type": "markdown",
   "metadata": {
    "scrolled": true
   },
   "source": [
    "cant_NaN = base_datos.isnull().sum()\n",
    "print(cant_NaN,'\\r\\n')"
   ]
  },
  {
   "cell_type": "markdown",
   "metadata": {},
   "source": [
    "## 1.3 NAN (Not A Number)\n",
    "* nan significa \"no es un número\", un valor flotante que se obtiene si realiza un cálculo cuyo resultado no se puede expresar como un número. Cualquier cálculo que realice con NaN también dará como resultado NaN.\n",
    "Ahora verificamos que las columnas no tengan NaN.\n",
    "\n",
    "En caso de haberlos, tendremos que decidir:\n",
    "\n",
    "- si son suficientes como para eliminar TODA la columa y perder esa informacion, o\n",
    "\n",
    "        \n",
    "- decidir eliminar unicamente los registros."
   ]
  },
  {
   "cell_type": "markdown",
   "metadata": {},
   "source": [
    "### Reviso que no existan valores nulos en mi dataset"
   ]
  },
  {
   "cell_type": "code",
   "execution_count": 7,
   "metadata": {
    "scrolled": true
   },
   "outputs": [
    {
     "name": "stdout",
     "output_type": "stream",
     "text": [
      "ID                                                        False\n",
      "pondera                                                   False\n",
      "personas_hogar                                            False\n",
      "hogar_dificultad                                          False\n",
      "personas_dificultad_hogar                                 False\n",
      "tipo_hogar                                                False\n",
      "pa01                                                      False\n",
      "Relación de parentesco                                    False\n",
      "Sexo                                                      False\n",
      "edad_grandes_grupos                                       False\n",
      "edad_agrupada                                             False\n",
      "imputadoB                                                 False\n",
      "imputadoC                                                 False\n",
      "imputadoD                                                 False\n",
      "Personas de 6 años y más con dificultad                   False\n",
      "Personas con dificultad considerando toda la población    False\n",
      "Cantidad de dificultades                                  False\n",
      "Cantidad y tipo de dificultad                             False\n",
      "certificado                                               False\n",
      "Comienzo de la dificultad                                 False\n",
      "edad_inicio                                               False\n",
      "Causa de la dificultad                                    False\n",
      "Cobertura de salud                                        False\n",
      "Recibe jubilación o pensión                               False\n",
      "Tipo de beneficioSabe leer y escribir que recibe          False\n",
      "Sabe leer y escribir                                      False\n",
      "Asiste a establecimiento educativo                        False\n",
      "Modalidad educativa de asistencia actual y pasada         False\n",
      "Máximo nivel educativo alcanzado                          False\n",
      "Principal motivo de no cursar actualmente/nunca cursó     False\n",
      "Convive en pareja                                         False\n",
      "Estado civil legal                                        False\n",
      "Motivo principal por el que no busco trabajo              False\n",
      "Condición de actividad                                    False\n",
      "Categoría ocupacional                                     False\n",
      "dtype: bool \r\n",
      "\n"
     ]
    }
   ],
   "source": [
    "col_NaN = base_datos.isnull().any()\n",
    "print(col_NaN,'\\r\\n')"
   ]
  },
  {
   "cell_type": "code",
   "execution_count": 8,
   "metadata": {
    "scrolled": true
   },
   "outputs": [
    {
     "data": {
      "text/plain": [
       "Categoría ocupacional                                     0\n",
       "Sexo                                                      0\n",
       "Personas de 6 años y más con dificultad                   0\n",
       "imputadoD                                                 0\n",
       "imputadoC                                                 0\n",
       "imputadoB                                                 0\n",
       "edad_agrupada                                             0\n",
       "edad_grandes_grupos                                       0\n",
       "Relación de parentesco                                    0\n",
       "Cantidad de dificultades                                  0\n",
       "pa01                                                      0\n",
       "tipo_hogar                                                0\n",
       "personas_dificultad_hogar                                 0\n",
       "hogar_dificultad                                          0\n",
       "personas_hogar                                            0\n",
       "pondera                                                   0\n",
       "Personas con dificultad considerando toda la población    0\n",
       "Cantidad y tipo de dificultad                             0\n",
       "Condición de actividad                                    0\n",
       "Asiste a establecimiento educativo                        0\n",
       "Motivo principal por el que no busco trabajo              0\n",
       "Estado civil legal                                        0\n",
       "Convive en pareja                                         0\n",
       "Principal motivo de no cursar actualmente/nunca cursó     0\n",
       "Máximo nivel educativo alcanzado                          0\n",
       "Modalidad educativa de asistencia actual y pasada         0\n",
       "Sabe leer y escribir                                      0\n",
       "certificado                                               0\n",
       "Tipo de beneficioSabe leer y escribir que recibe          0\n",
       "Recibe jubilación o pensión                               0\n",
       "Cobertura de salud                                        0\n",
       "Causa de la dificultad                                    0\n",
       "edad_inicio                                               0\n",
       "Comienzo de la dificultad                                 0\n",
       "ID                                                        0\n",
       "dtype: int64"
      ]
     },
     "execution_count": 8,
     "metadata": {},
     "output_type": "execute_result"
    }
   ],
   "source": [
    "# Cantidad de valores/registros tenemos con NaNs y lo ordenados descendentemente con isnull().sum().sort_values(ascending=False)\n",
    "total = base_datos.isnull().sum().sort_values(ascending=False)\n",
    "total\n"
   ]
  },
  {
   "cell_type": "code",
   "execution_count": 168,
   "metadata": {},
   "outputs": [],
   "source": [
    "# Cantidad de valores nulos ordenados descendentemente\n",
    "total = base_datos.isnull().sum().sort_values(ascending=False)\n",
    "# Porcetaje de lo que representa para cada columna\n",
    "# porcentaje de NaNs que representa sobre el total del dataset por columnas\n",
    "percent = (base_datos.isnull().sum()/base_datos.isnull().count()).sort_values(ascending=False)\n"
   ]
  },
  {
   "cell_type": "code",
   "execution_count": 115,
   "metadata": {
    "scrolled": false
   },
   "outputs": [
    {
     "data": {
      "text/html": [
       "<div>\n",
       "<style scoped>\n",
       "    .dataframe tbody tr th:only-of-type {\n",
       "        vertical-align: middle;\n",
       "    }\n",
       "\n",
       "    .dataframe tbody tr th {\n",
       "        vertical-align: top;\n",
       "    }\n",
       "\n",
       "    .dataframe thead th {\n",
       "        text-align: right;\n",
       "    }\n",
       "</style>\n",
       "<table border=\"1\" class=\"dataframe\">\n",
       "  <thead>\n",
       "    <tr style=\"text-align: right;\">\n",
       "      <th></th>\n",
       "      <th>Total</th>\n",
       "      <th>Percent</th>\n",
       "    </tr>\n",
       "  </thead>\n",
       "  <tbody>\n",
       "    <tr>\n",
       "      <th>Categoría ocupacional</th>\n",
       "      <td>0</td>\n",
       "      <td>0.0</td>\n",
       "    </tr>\n",
       "    <tr>\n",
       "      <th>Sexo</th>\n",
       "      <td>0</td>\n",
       "      <td>0.0</td>\n",
       "    </tr>\n",
       "    <tr>\n",
       "      <th>Personas de 6 años y más con dificultad</th>\n",
       "      <td>0</td>\n",
       "      <td>0.0</td>\n",
       "    </tr>\n",
       "    <tr>\n",
       "      <th>imputadoD</th>\n",
       "      <td>0</td>\n",
       "      <td>0.0</td>\n",
       "    </tr>\n",
       "    <tr>\n",
       "      <th>imputadoC</th>\n",
       "      <td>0</td>\n",
       "      <td>0.0</td>\n",
       "    </tr>\n",
       "    <tr>\n",
       "      <th>imputadoB</th>\n",
       "      <td>0</td>\n",
       "      <td>0.0</td>\n",
       "    </tr>\n",
       "    <tr>\n",
       "      <th>edad_agrupada</th>\n",
       "      <td>0</td>\n",
       "      <td>0.0</td>\n",
       "    </tr>\n",
       "    <tr>\n",
       "      <th>edad_grandes_grupos</th>\n",
       "      <td>0</td>\n",
       "      <td>0.0</td>\n",
       "    </tr>\n",
       "    <tr>\n",
       "      <th>Relación de parentesco</th>\n",
       "      <td>0</td>\n",
       "      <td>0.0</td>\n",
       "    </tr>\n",
       "    <tr>\n",
       "      <th>Cantidad de dificultades</th>\n",
       "      <td>0</td>\n",
       "      <td>0.0</td>\n",
       "    </tr>\n",
       "    <tr>\n",
       "      <th>pa01</th>\n",
       "      <td>0</td>\n",
       "      <td>0.0</td>\n",
       "    </tr>\n",
       "    <tr>\n",
       "      <th>tipo_hogar</th>\n",
       "      <td>0</td>\n",
       "      <td>0.0</td>\n",
       "    </tr>\n",
       "    <tr>\n",
       "      <th>personas_dificultad_hogar</th>\n",
       "      <td>0</td>\n",
       "      <td>0.0</td>\n",
       "    </tr>\n",
       "    <tr>\n",
       "      <th>hogar_dificultad</th>\n",
       "      <td>0</td>\n",
       "      <td>0.0</td>\n",
       "    </tr>\n",
       "    <tr>\n",
       "      <th>personas_hogar</th>\n",
       "      <td>0</td>\n",
       "      <td>0.0</td>\n",
       "    </tr>\n",
       "    <tr>\n",
       "      <th>pondera</th>\n",
       "      <td>0</td>\n",
       "      <td>0.0</td>\n",
       "    </tr>\n",
       "    <tr>\n",
       "      <th>Personas con dificultad considerando toda la población</th>\n",
       "      <td>0</td>\n",
       "      <td>0.0</td>\n",
       "    </tr>\n",
       "    <tr>\n",
       "      <th>Cantidad y tipo de dificultad</th>\n",
       "      <td>0</td>\n",
       "      <td>0.0</td>\n",
       "    </tr>\n",
       "    <tr>\n",
       "      <th>Condición de actividad</th>\n",
       "      <td>0</td>\n",
       "      <td>0.0</td>\n",
       "    </tr>\n",
       "    <tr>\n",
       "      <th>Asiste a establecimiento educativo</th>\n",
       "      <td>0</td>\n",
       "      <td>0.0</td>\n",
       "    </tr>\n",
       "    <tr>\n",
       "      <th>Motivo principal por el que no busco trabajo</th>\n",
       "      <td>0</td>\n",
       "      <td>0.0</td>\n",
       "    </tr>\n",
       "    <tr>\n",
       "      <th>Estado civil legal</th>\n",
       "      <td>0</td>\n",
       "      <td>0.0</td>\n",
       "    </tr>\n",
       "    <tr>\n",
       "      <th>Convive en pareja</th>\n",
       "      <td>0</td>\n",
       "      <td>0.0</td>\n",
       "    </tr>\n",
       "    <tr>\n",
       "      <th>Principal motivo de no cursar actualmente/nunca cursó</th>\n",
       "      <td>0</td>\n",
       "      <td>0.0</td>\n",
       "    </tr>\n",
       "    <tr>\n",
       "      <th>Máximo nivel educativo alcanzado</th>\n",
       "      <td>0</td>\n",
       "      <td>0.0</td>\n",
       "    </tr>\n",
       "    <tr>\n",
       "      <th>Modalidad educativa de asistencia actual y pasada</th>\n",
       "      <td>0</td>\n",
       "      <td>0.0</td>\n",
       "    </tr>\n",
       "    <tr>\n",
       "      <th>Sabe leer y escribir</th>\n",
       "      <td>0</td>\n",
       "      <td>0.0</td>\n",
       "    </tr>\n",
       "    <tr>\n",
       "      <th>certificado</th>\n",
       "      <td>0</td>\n",
       "      <td>0.0</td>\n",
       "    </tr>\n",
       "    <tr>\n",
       "      <th>Tipo de beneficioSabe leer y escribir que recibe</th>\n",
       "      <td>0</td>\n",
       "      <td>0.0</td>\n",
       "    </tr>\n",
       "    <tr>\n",
       "      <th>Recibe jubilación o pensión</th>\n",
       "      <td>0</td>\n",
       "      <td>0.0</td>\n",
       "    </tr>\n",
       "    <tr>\n",
       "      <th>Cobertura de salud</th>\n",
       "      <td>0</td>\n",
       "      <td>0.0</td>\n",
       "    </tr>\n",
       "    <tr>\n",
       "      <th>Causa de la dificultad</th>\n",
       "      <td>0</td>\n",
       "      <td>0.0</td>\n",
       "    </tr>\n",
       "    <tr>\n",
       "      <th>edad_inicio</th>\n",
       "      <td>0</td>\n",
       "      <td>0.0</td>\n",
       "    </tr>\n",
       "    <tr>\n",
       "      <th>Comienzo de la dificultad</th>\n",
       "      <td>0</td>\n",
       "      <td>0.0</td>\n",
       "    </tr>\n",
       "    <tr>\n",
       "      <th>ID</th>\n",
       "      <td>0</td>\n",
       "      <td>0.0</td>\n",
       "    </tr>\n",
       "  </tbody>\n",
       "</table>\n",
       "</div>"
      ],
      "text/plain": [
       "                                                    Total  Percent\n",
       "Categoría ocupacional                                   0      0.0\n",
       "Sexo                                                    0      0.0\n",
       "Personas de 6 años y más con dificultad                 0      0.0\n",
       "imputadoD                                               0      0.0\n",
       "imputadoC                                               0      0.0\n",
       "imputadoB                                               0      0.0\n",
       "edad_agrupada                                           0      0.0\n",
       "edad_grandes_grupos                                     0      0.0\n",
       "Relación de parentesco                                  0      0.0\n",
       "Cantidad de dificultades                                0      0.0\n",
       "pa01                                                    0      0.0\n",
       "tipo_hogar                                              0      0.0\n",
       "personas_dificultad_hogar                               0      0.0\n",
       "hogar_dificultad                                        0      0.0\n",
       "personas_hogar                                          0      0.0\n",
       "pondera                                                 0      0.0\n",
       "Personas con dificultad considerando toda la po...      0      0.0\n",
       "Cantidad y tipo de dificultad                           0      0.0\n",
       "Condición de actividad                                  0      0.0\n",
       "Asiste a establecimiento educativo                      0      0.0\n",
       "Motivo principal por el que no busco trabajo            0      0.0\n",
       "Estado civil legal                                      0      0.0\n",
       "Convive en pareja                                       0      0.0\n",
       "Principal motivo de no cursar actualmente/nunca...      0      0.0\n",
       "Máximo nivel educativo alcanzado                        0      0.0\n",
       "Modalidad educativa de asistencia actual y pasada       0      0.0\n",
       "Sabe leer y escribir                                    0      0.0\n",
       "certificado                                             0      0.0\n",
       "Tipo de beneficioSabe leer y escribir que recibe        0      0.0\n",
       "Recibe jubilación o pensión                             0      0.0\n",
       "Cobertura de salud                                      0      0.0\n",
       "Causa de la dificultad                                  0      0.0\n",
       "edad_inicio                                             0      0.0\n",
       "Comienzo de la dificultad                               0      0.0\n",
       "ID                                                      0      0.0"
      ]
     },
     "execution_count": 115,
     "metadata": {},
     "output_type": "execute_result"
    }
   ],
   "source": [
    "# Mostramos los 2 resultados en conjunto.\n",
    "# Axis=1 para ponerlo en columna \n",
    "# keys= ponemos el nombre de esas columnas del dataframe\n",
    "missing_data = pd.concat([total, percent], axis=1, keys=['Total', 'Percent'])\n",
    "# con missing_data.head(10) ploeto las primeras 10 columnas \n",
    "missing_data.head(35)\n"
   ]
  },
  {
   "cell_type": "code",
   "execution_count": 169,
   "metadata": {},
   "outputs": [],
   "source": [
    "# Limpiamos registros con '.dropna'\n",
    "base_datos.dropna(how ='any', inplace = True)"
   ]
  },
  {
   "cell_type": "code",
   "execution_count": 170,
   "metadata": {},
   "outputs": [
    {
     "name": "stdout",
     "output_type": "stream",
     "text": [
      "Nos quedamos con un dataframe de 2172 filas x 35 columnas\n"
     ]
    }
   ],
   "source": [
    "# Verificamos como quedo el dataset\n",
    "print(f'Nos quedamos con un dataframe de {base_datos.shape[0]} filas x {base_datos.shape[1]} columnas')"
   ]
  },
  {
   "cell_type": "code",
   "execution_count": 13,
   "metadata": {},
   "outputs": [
    {
     "data": {
      "text/plain": [
       "(2172, 35)"
      ]
     },
     "execution_count": 13,
     "metadata": {},
     "output_type": "execute_result"
    }
   ],
   "source": [
    "np.shape(base_datos)"
   ]
  },
  {
   "cell_type": "markdown",
   "metadata": {},
   "source": [
    "## Ahora que terminamos con la limpieza general del dataset, pasemos a analizar\n",
    "* Pondera\n",
    "* Cantidad de personas en el hogar\n",
    "* Personas de 6 años y más con dificultad\n",
    "* Condición de actividad"
   ]
  },
  {
   "cell_type": "markdown",
   "metadata": {},
   "source": [
    "## ponderador\n"
   ]
  },
  {
   "cell_type": "code",
   "execution_count": 196,
   "metadata": {},
   "outputs": [
    {
     "data": {
      "image/png": "[encoded data removed]",
      "text/plain": [
       "<Figure size 720x216 with 1 Axes>"
      ]
     },
     "metadata": {
      "needs_background": "light"
     },
     "output_type": "display_data"
    },
    {
     "data": {
      "image/png": "[encoded data removed]",
      "text/plain": [
       "<Figure size 360x216 with 1 Axes>"
      ]
     },
     "metadata": {
      "needs_background": "light"
     },
     "output_type": "display_data"
    },
    {
     "name": "stdout",
     "output_type": "stream",
     "text": [
      "En total hay 2172 categorias\r\n",
      "\n",
      "\n",
      " [ 413  473  409 ... 5230 1282 1205]\n"
     ]
    },
    {
     "data": {
      "image/png": "[encoded data removed]",
      "text/plain": [
       "<Figure size 432x288 with 1 Axes>"
      ]
     },
     "metadata": {
      "needs_background": "light"
     },
     "output_type": "display_data"
    }
   ],
   "source": [
    "plt.figure(figsize=(10,3))\n",
    "sns.kdeplot(base_datos['pondera'], color= \"green\", shade = True)\n",
    "plt.xlabel(\"pondera\",size = 20)\n",
    "plt.ylabel(\"Frecuency\",size = 20)\n",
    "plt.title('Distribution of Ponderacion',size = 20)\n",
    "plt.show()\n",
    "\n",
    "plt.figure(figsize=(5,3))\n",
    "sns.countplot(base_datos.pondera, color=\"Blue\")\n",
    "plt.xlabel(\"pondera\",size = 20)\n",
    "plt.ylabel(\"Qty\",size = 20)\n",
    "plt.title('Histogram of Ponderacion',size = 20)\n",
    "plt.xticks([]) # por si deseamos eliminar los intervalos en el eje-x\n",
    "#plt.imsave('Histogram',format='png') # Guardar la imagen\n",
    "plt.show()\n",
    "\n",
    "# Gardamos en una variable la cantidad de categorias\n",
    "q_categorias = len(base_datos['pondera'].unique())\n",
    "print(f'En total hay {q_categorias} categorias\\r\\n')\n",
    "# Mostramos en la cell los tipos de categorias\n",
    "print(\"\\n\", base_datos['pondera'].unique())\n",
    "\n",
    "\n",
    "ay = sns.boxplot(x = base_datos.pondera, y = base_datos.pondera, data = base_datos)\n",
    "ay.set_xticklabels(ay.get_xticklabels(), rotation=40, ha=\"right\")\n",
    "plt.title(\"titulo\")\n",
    "plt.show()\n"
   ]
  },
  {
   "cell_type": "markdown",
   "metadata": {},
   "source": [
    "# Cantidad de personas con dificultad en el hogar\n",
    "* Hogares con al menos una persona con dificultad"
   ]
  },
  {
   "cell_type": "code",
   "execution_count": 175,
   "metadata": {},
   "outputs": [
    {
     "data": {
      "image/png": "[encoded data removed]",
      "text/plain": [
       "<Figure size 1080x216 with 1 Axes>"
      ]
     },
     "metadata": {
      "needs_background": "light"
     },
     "output_type": "display_data"
    }
   ],
   "source": [
    "# Guardamos los indices de los top_n categorias\n",
    "idx_top = base_datos['Cantidad de dificultades'].value_counts(ascending=False).index[0:top_n]\n",
    "\n",
    "plt.figure(figsize=(15,3))\n",
    "# Indicamos la columna 'Category', de los datos 'google_df', en el orden 'idx_top'\n",
    "g = sns.countplot(x=\"Cantidad de dificultades\", data=base_datos, order=idx_top, palette = \"muted\")\n",
    "g.set_xticklabels(g.get_xticklabels(), rotation=90, ha=\"right\")\n",
    "plt.title('cantidad de dificultades', size = 20)\n",
    "plt.xlabel(\"Q\", size = 20)\n",
    "plt.ylabel(\"Q\", size = 20)\n",
    "plt.show()\n"
   ]
  },
  {
   "cell_type": "markdown",
   "metadata": {},
   "source": []
  },
  {
   "cell_type": "markdown",
   "metadata": {},
   "source": []
  },
  {
   "cell_type": "markdown",
   "metadata": {},
   "source": [
    "# Cantidad de personas en el hogar\n",
    "\n",
    "* todos los hogares"
   ]
  },
  {
   "cell_type": "code",
   "execution_count": 193,
   "metadata": {
    "scrolled": false
   },
   "outputs": [
    {
     "data": {
      "image/png": "[encoded data removed]",
      "text/plain": [
       "<Figure size 720x216 with 1 Axes>"
      ]
     },
     "metadata": {
      "needs_background": "light"
     },
     "output_type": "display_data"
    },
    {
     "data": {
      "image/png": "[encoded data removed]",
      "text/plain": [
       "<Figure size 720x216 with 1 Axes>"
      ]
     },
     "metadata": {
      "needs_background": "light"
     },
     "output_type": "display_data"
    },
    {
     "data": {
      "image/png": "[encoded data removed]",
      "text/plain": [
       "<Figure size 720x216 with 1 Axes>"
      ]
     },
     "metadata": {
      "needs_background": "light"
     },
     "output_type": "display_data"
    },
    {
     "data": {
      "image/png": "[encoded data removed]",
      "text/plain": [
       "<Figure size 720x216 with 1 Axes>"
      ]
     },
     "metadata": {
      "needs_background": "light"
     },
     "output_type": "display_data"
    }
   ],
   "source": [
    "plt.figure(figsize=(10,3))\n",
    "ax = sns.countplot(x=\"personas_hogar\", data=base_datos)\n",
    "ax.set_xticklabels(ax.get_xticklabels(),rotation=40, ha=\"right\")\n",
    "plt.title(\"todos los hogares\")\n",
    "plt.show()\n",
    "\n",
    "\n",
    "# En este primer plot vamos a ver una estimacion de la distribucion de de los reviews de la cantidad de Reviews\n",
    "plt.figure(figsize=(10,3))\n",
    "g = sns.kdeplot(base_datos.personas_hogar, color=\"Green\", shade = True)\n",
    "plt.xlabel(\"personas hogar\",size = 20)\n",
    "plt.ylabel(\"Frecuency\",size = 20)\n",
    "plt.title('Distribution of cantidad de personas en el hogar',size = 20)\n",
    "plt.show()\n",
    "\n",
    "# En este segundo plot vamos a ver el histograma \n",
    "# El parametro bins define la cantidad de sub-intervalos en los que vamos a dividir el eje-x\n",
    "plt.figure(figsize=(10,3))\n",
    "plt.hist(base_datos['personas_hogar'], bins=100,color='g' ,alpha=0.5)\n",
    "plt.xlabel(\"personas_hogar\",size = 20)\n",
    "plt.ylabel(\"Cantidades\",size = 20)\n",
    "plt.show()\n",
    "\n",
    "plt.figure(figsize=(10,3))\n",
    "plt.hist(np.log(1+base_datos.personas_hogar),bins=100, color='g' ,alpha=0.5)\n",
    "plt.xlabel(\"Log(personas_hogar)\",size = 20)\n",
    "plt.ylabel(\"Cantidades\",size = 20)\n",
    "plt.show()"
   ]
  },
  {
   "cell_type": "markdown",
   "metadata": {},
   "source": []
  },
  {
   "cell_type": "markdown",
   "metadata": {},
   "source": []
  },
  {
   "cell_type": "markdown",
   "metadata": {},
   "source": [
    "# Categoría ocupacional\n",
    "* Población ocupada de 14 años y más con dificultad"
   ]
  },
  {
   "cell_type": "code",
   "execution_count": 189,
   "metadata": {
    "scrolled": true
   },
   "outputs": [
    {
     "data": {
      "image/png": "[encoded data removed]",
      "text/plain": [
       "<Figure size 720x216 with 1 Axes>"
      ]
     },
     "metadata": {
      "needs_background": "light"
     },
     "output_type": "display_data"
    },
    {
     "data": {
      "image/png": "[encoded data removed]",
      "text/plain": [
       "<Figure size 432x288 with 1 Axes>"
      ]
     },
     "metadata": {
      "needs_background": "light"
     },
     "output_type": "display_data"
    }
   ],
   "source": [
    "\n",
    "plt.figure(figsize=(10,3))\n",
    "ax = sns.countplot(x=\"Categoría ocupacional\", data=base_datos)\n",
    "ax.set_xticklabels(ax.get_xticklabels(),rotation=40, ha=\"right\")\n",
    "plt.title(\"POBLACION OCUPADA DE 14 AÑOS Y CON DIFICULTAD\")\n",
    "plt.show()\n",
    "\n",
    "ax = sns.countplot(x=\"Categoría ocupacional\", data=base_datos)\n",
    "ax.set_xticklabels(ax.get_xticklabels(), rotation=40, ha=\"right\")\n",
    "plt.title(\"\")\n",
    "plt.show()\n"
   ]
  },
  {
   "cell_type": "code",
   "execution_count": null,
   "metadata": {
    "scrolled": false
   },
   "outputs": [],
   "source": []
  },
  {
   "cell_type": "markdown",
   "metadata": {},
   "source": [
    "# Motivo principal por el que no busco trabajo (PC26)"
   ]
  },
  {
   "cell_type": "code",
   "execution_count": 181,
   "metadata": {},
   "outputs": [
    {
     "data": {
      "image/png": "[encoded data removed]",
      "text/plain": [
       "<Figure size 720x432 with 1 Axes>"
      ]
     },
     "metadata": {
      "needs_background": "light"
     },
     "output_type": "display_data"
    }
   ],
   "source": [
    "\n",
    "data=base_datos\n",
    "plt.figure(figsize=(10,6))\n",
    "ax = sns.countplot(x=\"Motivo principal por el que no busco trabajo\", data=base_datos)\n",
    "ax.set_xticklabels(ax.get_xticklabels(),rotation=40, ha=\"right\")\n",
    "plt.title(\"Cantidad y tipo de dificultad que tienen en casas con personas con dificultades ocupados \")\n",
    "plt.show()"
   ]
  },
  {
   "cell_type": "code",
   "execution_count": null,
   "metadata": {},
   "outputs": [],
   "source": []
  },
  {
   "cell_type": "code",
   "execution_count": null,
   "metadata": {},
   "outputs": [],
   "source": []
  },
  {
   "cell_type": "code",
   "execution_count": null,
   "metadata": {},
   "outputs": [],
   "source": []
  },
  {
   "cell_type": "code",
   "execution_count": null,
   "metadata": {},
   "outputs": [],
   "source": []
  },
  {
   "cell_type": "code",
   "execution_count": null,
   "metadata": {},
   "outputs": [],
   "source": []
  },
  {
   "cell_type": "code",
   "execution_count": null,
   "metadata": {},
   "outputs": [],
   "source": []
  },
  {
   "cell_type": "code",
   "execution_count": null,
   "metadata": {},
   "outputs": [],
   "source": []
  },
  {
   "cell_type": "code",
   "execution_count": null,
   "metadata": {},
   "outputs": [],
   "source": []
  },
  {
   "cell_type": "code",
   "execution_count": null,
   "metadata": {},
   "outputs": [],
   "source": []
  },
  {
   "cell_type": "code",
   "execution_count": null,
   "metadata": {},
   "outputs": [],
   "source": []
  },
  {
   "cell_type": "code",
   "execution_count": null,
   "metadata": {},
   "outputs": [],
   "source": []
  }
 ],
 "metadata": {
  "kernelspec": {
   "display_name": "Python 3",
   "language": "python",
   "name": "python3"
  },
  "language_info": {
   "codemirror_mode": {
    "name": "ipython",
    "version": 3
   },
   "file_extension": ".py",
   "mimetype": "text/x-python",
   "name": "python",
   "nbconvert_exporter": "python",
   "pygments_lexer": "ipython3",
   "version": "3.7.1"
  }
 },
 "nbformat": 4,
 "nbformat_minor": 2
}
