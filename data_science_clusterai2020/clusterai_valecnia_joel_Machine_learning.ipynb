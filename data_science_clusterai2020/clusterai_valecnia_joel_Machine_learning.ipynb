{
 "cells": [
  {
   "cell_type": "markdown",
   "metadata": {},
   "source": [
    "# ClusterAI 2020\n",
    "Ciencia de Datos - Ingenieria Industrial UTN BA\n",
    "Curso I5521"
   ]
  },
  {
   "cell_type": "markdown",
   "metadata": {},
   "source": [
    "## Importación de Librerias"
   ]
  },
  {
   "cell_type": "code",
   "execution_count": 1,
   "metadata": {},
   "outputs": [],
   "source": [
    "#Importar paquetes de herramientas:\n",
    "\n",
    "#Datos\n",
    "import pandas as pd\n",
    "import numpy as np\n",
    "#Graficos \n",
    "import matplotlib.pyplot as plt\n",
    "import seaborn as sns\n",
    "#Otros \n",
    "import warnings\n",
    "warnings.filterwarnings('ignore')\n"
   ]
  },
  {
   "cell_type": "code",
   "execution_count": 2,
   "metadata": {},
   "outputs": [],
   "source": [
    "from sklearn import svm\n",
    "from sklearn.svm import SVC\n",
    "from sklearn.model_selection import train_test_split\n",
    "from sklearn.metrics import accuracy_score\n",
    "from sklearn.model_selection import cross_val_score\n",
    "from sklearn.metrics import roc_curve, auc\n",
    "from sklearn import metrics\n",
    "from sklearn.model_selection import GridSearchCV\n",
    "from sklearn.metrics import confusion_matrix\n",
    "from sklearn.neighbors import KNeighborsClassifier\n",
    "from sklearn.linear_model import LogisticRegression\n",
    "from sklearn import preprocessing\n",
    "from sklearn.model_selection import train_test_split"
   ]
  },
  {
   "cell_type": "code",
   "execution_count": 3,
   "metadata": {},
   "outputs": [],
   "source": [
    "file = 'base_estudio_discapacidad_2018.csv'"
   ]
  },
  {
   "cell_type": "code",
   "execution_count": 4,
   "metadata": {
    "scrolled": true
   },
   "outputs": [],
   "source": [
    "estudio = pd.read_csv(file, engine = 'python', error_bad_lines=False, delimiter= ';')\n",
    "\n",
    "# Uso engine= 'python' y Erro_bad_lines = False porque sino tira un error al leer cierto tipo de lineas.\n",
    "\n",
    "# Error_bad_lines lo uso para.Las líneas con demasiados campos (por ejemplo, una línea csv con demasiadas comas) \n",
    "# provocarán de forma predeterminada que se genere una excepción y no se devolverá ningún DataFrame. \n",
    "# Si es False, estas \"líneas incorrectas\" se eliminarán del DataFrame que se devuelve.\n",
    "\n",
    "# Engine = 'python' lo uso para cuando\n",
    "# Se genera una advertencia al leer un archivo que no usa el analizador 'c' predeterminado.\n",
    "# Ocurre debido a la falta de soporte o funcionalidad para analizar un atributo particular de un archivo CSV con el motor solicitado.\n",
    "# La advertencia se puede evitar agregando engine = 'python' como parámetro en los métodos pd.read_csv y pd.read_table .\n",
    "\n",
    "# Uso delimiter=';' para separar las columnas al leerlas"
   ]
  },
  {
   "cell_type": "code",
   "execution_count": 5,
   "metadata": {},
   "outputs": [],
   "source": [
    "# Nos quedamos con las variables/features que nos interesan del Dataset\n",
    "\n",
    "estudio_dif = estudio[['personas_hogar', 'Sexo' , 'hogar_dificultad', 'personas_dificultad_hogar' , 'tipo_hogar' , 'edad_agrupada', 'Cantidad de dificultades' , 'Cantidad y tipo de dificultad' , 'edad_inicio' , 'Cobertura de salud' , 'Sabe leer y escribir' , 'Máximo nivel educativo alcanzado' ,'Condición de actividad']]\n",
    "\n"
   ]
  },
  {
   "cell_type": "code",
   "execution_count": 6,
   "metadata": {},
   "outputs": [],
   "source": [
    "# Filtramos el Dataset por las personas con dificultades (discapacidad) que son el grupo que vamos a estudiar\n",
    "\n",
    "estudio_disca = estudio_dif.loc[estudio['hogar_dificultad']== 'Hogares con personas con dificultad']\n",
    "\n"
   ]
  },
  {
   "cell_type": "code",
   "execution_count": 7,
   "metadata": {},
   "outputs": [],
   "source": [
    "# Filtramos el Dataset por Edad y dejamos los grupos que tienen personas en edad Laboral \"14 a 39 años\" y \"40 a 64 años\"\n",
    "\n",
    "estudio_discapacidad = estudio_disca.loc[(estudio['edad_agrupada'] != '0 a 5 años') & (estudio['edad_agrupada'] != '6 a 13 años') & (estudio['edad_agrupada'] != '65 años y más') ]"
   ]
  },
  {
   "cell_type": "code",
   "execution_count": 8,
   "metadata": {},
   "outputs": [
    {
     "data": {
      "text/plain": [
       "(13787, 13)"
      ]
     },
     "execution_count": 8,
     "metadata": {},
     "output_type": "execute_result"
    }
   ],
   "source": [
    "np.shape(estudio_discapacidad)"
   ]
  },
  {
   "cell_type": "code",
   "execution_count": 9,
   "metadata": {},
   "outputs": [],
   "source": [
    "# Sabemos que hay valores vacios en la columna 'Condición de actividad' entonces los convertimos a Nans\n",
    "\n",
    "estudio_discapacidad['Condición de actividad'].replace(' ', np.nan, inplace=True)\n"
   ]
  },
  {
   "cell_type": "code",
   "execution_count": 10,
   "metadata": {},
   "outputs": [
    {
     "name": "stdout",
     "output_type": "stream",
     "text": [
      "personas_hogar                      False\n",
      "Sexo                                False\n",
      "hogar_dificultad                    False\n",
      "personas_dificultad_hogar           False\n",
      "tipo_hogar                          False\n",
      "edad_agrupada                       False\n",
      "Cantidad de dificultades            False\n",
      "Cantidad y tipo de dificultad       False\n",
      "edad_inicio                         False\n",
      "Cobertura de salud                  False\n",
      "Sabe leer y escribir                False\n",
      "Máximo nivel educativo alcanzado    False\n",
      "Condición de actividad               True\n",
      "dtype: bool \r\n",
      "\n"
     ]
    }
   ],
   "source": [
    "# Verificamos los Nans en las columnas\n",
    "\n",
    "col_NaN = estudio_discapacidad.isnull().any()\n",
    "print(col_NaN,'\\r\\n')"
   ]
  },
  {
   "cell_type": "code",
   "execution_count": 11,
   "metadata": {},
   "outputs": [],
   "source": [
    "# Limpiamos registros con '.dropna'\n",
    "\n",
    "estudio_discapacidad.dropna(how ='any', inplace = True)"
   ]
  },
  {
   "cell_type": "code",
   "execution_count": 12,
   "metadata": {},
   "outputs": [
    {
     "data": {
      "text/plain": [
       "(4389, 13)"
      ]
     },
     "execution_count": 12,
     "metadata": {},
     "output_type": "execute_result"
    }
   ],
   "source": [
    "#Nos fijamos como quedo conformado nuestro Dataset. Cuantas muestras quedaron luego del filtro.\n",
    "\n",
    "np.shape(estudio_discapacidad)"
   ]
  },
  {
   "cell_type": "code",
   "execution_count": 13,
   "metadata": {},
   "outputs": [],
   "source": [
    "# Pasamos los valores de 'Cantidad de dificultades' de varriables object a numeros 'int'\n",
    "\n",
    "estudio_discapacidad['Cantidad de dificultades'] = estudio_discapacidad['Cantidad de dificultades'].astype(int)"
   ]
  },
  {
   "cell_type": "code",
   "execution_count": 14,
   "metadata": {},
   "outputs": [],
   "source": [
    "# Sabemos que hay valores vacios entonces los convertimos a Nans\n",
    "\n",
    "estudio_discapacidad['Máximo nivel educativo alcanzado'].replace(' ', np.nan, inplace=True)\n",
    "estudio_discapacidad['personas_hogar'].replace(' ', np.nan, inplace=True)\n",
    "estudio_discapacidad['Sexo'].replace(' ', np.nan, inplace=True)\n",
    "estudio_discapacidad['hogar_dificultad'].replace(' ', np.nan, inplace=True)\n",
    "estudio_discapacidad['tipo_hogar'].replace(' ', np.nan, inplace=True)\n",
    "estudio_discapacidad['edad_agrupada'].replace(' ', np.nan, inplace=True)\n",
    "estudio_discapacidad['Cantidad de dificultades'].replace(' ', np.nan, inplace=True)\n",
    "estudio_discapacidad['Cantidad y tipo de dificultad'].replace(' ', np.nan, inplace=True)\n",
    "estudio_discapacidad['edad_inicio'].replace(' ', np.nan, inplace=True)\n",
    "estudio_discapacidad['Cobertura de salud'].replace(' ', np.nan, inplace=True)\n",
    "estudio_discapacidad['Sabe leer y escribir'].replace(' ', np.nan, inplace=True)\n"
   ]
  },
  {
   "cell_type": "code",
   "execution_count": 15,
   "metadata": {},
   "outputs": [
    {
     "name": "stdout",
     "output_type": "stream",
     "text": [
      "personas_hogar                      False\n",
      "Sexo                                False\n",
      "hogar_dificultad                    False\n",
      "personas_dificultad_hogar           False\n",
      "tipo_hogar                          False\n",
      "edad_agrupada                       False\n",
      "Cantidad de dificultades            False\n",
      "Cantidad y tipo de dificultad       False\n",
      "edad_inicio                          True\n",
      "Cobertura de salud                  False\n",
      "Sabe leer y escribir                False\n",
      "Máximo nivel educativo alcanzado     True\n",
      "Condición de actividad              False\n",
      "dtype: bool \r\n",
      "\n"
     ]
    }
   ],
   "source": [
    "# Verificamos los Nans en las columnas\n",
    "\n",
    "col_NaN = estudio_discapacidad.isnull().any()\n",
    "print(col_NaN,'\\r\\n')"
   ]
  },
  {
   "cell_type": "code",
   "execution_count": 16,
   "metadata": {},
   "outputs": [],
   "source": [
    "# Rellenamos para los valores Nans de la columna 'Maximo nivel educativo alcanzado' con la leyenda 'No especifica nivel/ignorado'\n",
    "\n",
    "estudio_discapacidad[\"Máximo nivel educativo alcanzado\"].fillna(\"No especifica nivel/ignorado\", inplace = True) \n",
    "\n",
    "# Rellenamos la columna 'edad_inicio' con la moda para los valores Nans\n",
    "\n",
    "estudio_discapacidad['edad_inicio'] = estudio_discapacidad['edad_inicio'].fillna(estudio_discapacidad['edad_inicio'].mode()[0])"
   ]
  },
  {
   "cell_type": "code",
   "execution_count": 17,
   "metadata": {},
   "outputs": [
    {
     "data": {
      "text/plain": [
       "personas_hogar                      0.0\n",
       "Sexo                                0.0\n",
       "hogar_dificultad                    0.0\n",
       "personas_dificultad_hogar           0.0\n",
       "tipo_hogar                          0.0\n",
       "edad_agrupada                       0.0\n",
       "Cantidad de dificultades            0.0\n",
       "Cantidad y tipo de dificultad       0.0\n",
       "edad_inicio                         0.0\n",
       "Cobertura de salud                  0.0\n",
       "Sabe leer y escribir                0.0\n",
       "Máximo nivel educativo alcanzado    0.0\n",
       "Condición de actividad              0.0\n",
       "dtype: float64"
      ]
     },
     "execution_count": 17,
     "metadata": {},
     "output_type": "execute_result"
    }
   ],
   "source": [
    "#Revisamos si quedaron valores nulos\n",
    "nulo_ratio = (estudio_discapacidad.isnull().sum() / len(estudio_discapacidad)) * 100\n",
    "nulo_ratio"
   ]
  },
  {
   "cell_type": "code",
   "execution_count": 18,
   "metadata": {},
   "outputs": [
    {
     "name": "stdout",
     "output_type": "stream",
     "text": [
      "Filas: 4389\n",
      "Columnas: 13\r\n",
      "\n"
     ]
    },
    {
     "data": {
      "text/html": [
       "<div>\n",
       "<style scoped>\n",
       "    .dataframe tbody tr th:only-of-type {\n",
       "        vertical-align: middle;\n",
       "    }\n",
       "\n",
       "    .dataframe tbody tr th {\n",
       "        vertical-align: top;\n",
       "    }\n",
       "\n",
       "    .dataframe thead th {\n",
       "        text-align: right;\n",
       "    }\n",
       "</style>\n",
       "<table border=\"1\" class=\"dataframe\">\n",
       "  <thead>\n",
       "    <tr style=\"text-align: right;\">\n",
       "      <th></th>\n",
       "      <th>personas_hogar</th>\n",
       "      <th>Sexo</th>\n",
       "      <th>hogar_dificultad</th>\n",
       "      <th>personas_dificultad_hogar</th>\n",
       "      <th>tipo_hogar</th>\n",
       "      <th>edad_agrupada</th>\n",
       "      <th>Cantidad de dificultades</th>\n",
       "      <th>Cantidad y tipo de dificultad</th>\n",
       "      <th>edad_inicio</th>\n",
       "      <th>Cobertura de salud</th>\n",
       "      <th>Sabe leer y escribir</th>\n",
       "      <th>Máximo nivel educativo alcanzado</th>\n",
       "      <th>Condición de actividad</th>\n",
       "    </tr>\n",
       "  </thead>\n",
       "  <tbody>\n",
       "    <tr>\n",
       "      <th>13</th>\n",
       "      <td>2</td>\n",
       "      <td>Varón</td>\n",
       "      <td>Hogares con personas con dificultad</td>\n",
       "      <td>1</td>\n",
       "      <td>Hogar multipersonal familiar extendido</td>\n",
       "      <td>40 a 64 años</td>\n",
       "      <td>4</td>\n",
       "      <td>Solo certificado</td>\n",
       "      <td>40 a 64 años</td>\n",
       "      <td>Obra social o PAMI</td>\n",
       "      <td>Sí</td>\n",
       "      <td>Secundario incompleto</td>\n",
       "      <td>Inactivo</td>\n",
       "    </tr>\n",
       "    <tr>\n",
       "      <th>15</th>\n",
       "      <td>1</td>\n",
       "      <td>Varón</td>\n",
       "      <td>Hogares con personas con dificultad</td>\n",
       "      <td>1</td>\n",
       "      <td>Hogar unipersonal</td>\n",
       "      <td>40 a 64 años</td>\n",
       "      <td>2</td>\n",
       "      <td>Dos dificultades</td>\n",
       "      <td>40 a 64 años</td>\n",
       "      <td>Obra social o PAMI</td>\n",
       "      <td>Sí</td>\n",
       "      <td>Secundario incompleto</td>\n",
       "      <td>Inactivo</td>\n",
       "    </tr>\n",
       "    <tr>\n",
       "      <th>92</th>\n",
       "      <td>3</td>\n",
       "      <td>Mujer</td>\n",
       "      <td>Hogares con personas con dificultad</td>\n",
       "      <td>1</td>\n",
       "      <td>Hogar multipersonal familiar nuclear</td>\n",
       "      <td>14 a 39 años</td>\n",
       "      <td>3</td>\n",
       "      <td>Tres dificultades o más</td>\n",
       "      <td>40 a 64 años</td>\n",
       "      <td>Obra social o PAMI</td>\n",
       "      <td>No</td>\n",
       "      <td>No especifica nivel/ignorado</td>\n",
       "      <td>Inactivo</td>\n",
       "    </tr>\n",
       "    <tr>\n",
       "      <th>138</th>\n",
       "      <td>3</td>\n",
       "      <td>Mujer</td>\n",
       "      <td>Hogares con personas con dificultad</td>\n",
       "      <td>1</td>\n",
       "      <td>Hogar multipersonal familiar nuclear</td>\n",
       "      <td>40 a 64 años</td>\n",
       "      <td>2</td>\n",
       "      <td>Dos dificultades</td>\n",
       "      <td>Todavía no había cumplido el año</td>\n",
       "      <td>Obra social o PAMI</td>\n",
       "      <td>Sí</td>\n",
       "      <td>Superior no universitario, universitario y pos...</td>\n",
       "      <td>Inactivo</td>\n",
       "    </tr>\n",
       "    <tr>\n",
       "      <th>151</th>\n",
       "      <td>7</td>\n",
       "      <td>Mujer</td>\n",
       "      <td>Hogares con personas con dificultad</td>\n",
       "      <td>2</td>\n",
       "      <td>Hogar multipersonal familiar extendido</td>\n",
       "      <td>40 a 64 años</td>\n",
       "      <td>1</td>\n",
       "      <td>Solo visual</td>\n",
       "      <td>40 a 64 años</td>\n",
       "      <td>Obra social o PAMI</td>\n",
       "      <td>Sí</td>\n",
       "      <td>Secundario incompleto</td>\n",
       "      <td>Inactivo</td>\n",
       "    </tr>\n",
       "  </tbody>\n",
       "</table>\n",
       "</div>"
      ],
      "text/plain": [
       "     personas_hogar   Sexo                     hogar_dificultad  \\\n",
       "13                2  Varón  Hogares con personas con dificultad   \n",
       "15                1  Varón  Hogares con personas con dificultad   \n",
       "92                3  Mujer  Hogares con personas con dificultad   \n",
       "138               3  Mujer  Hogares con personas con dificultad   \n",
       "151               7  Mujer  Hogares con personas con dificultad   \n",
       "\n",
       "    personas_dificultad_hogar                              tipo_hogar  \\\n",
       "13                          1  Hogar multipersonal familiar extendido   \n",
       "15                          1                       Hogar unipersonal   \n",
       "92                          1    Hogar multipersonal familiar nuclear   \n",
       "138                         1    Hogar multipersonal familiar nuclear   \n",
       "151                         2  Hogar multipersonal familiar extendido   \n",
       "\n",
       "    edad_agrupada  Cantidad de dificultades Cantidad y tipo de dificultad  \\\n",
       "13   40 a 64 años                         4              Solo certificado   \n",
       "15   40 a 64 años                         2              Dos dificultades   \n",
       "92   14 a 39 años                         3       Tres dificultades o más   \n",
       "138  40 a 64 años                         2              Dos dificultades   \n",
       "151  40 a 64 años                         1                   Solo visual   \n",
       "\n",
       "                          edad_inicio  Cobertura de salud  \\\n",
       "13                       40 a 64 años  Obra social o PAMI   \n",
       "15                       40 a 64 años  Obra social o PAMI   \n",
       "92                       40 a 64 años  Obra social o PAMI   \n",
       "138  Todavía no había cumplido el año  Obra social o PAMI   \n",
       "151                      40 a 64 años  Obra social o PAMI   \n",
       "\n",
       "    Sabe leer y escribir                   Máximo nivel educativo alcanzado  \\\n",
       "13                    Sí                              Secundario incompleto   \n",
       "15                    Sí                              Secundario incompleto   \n",
       "92                    No                       No especifica nivel/ignorado   \n",
       "138                   Sí  Superior no universitario, universitario y pos...   \n",
       "151                   Sí                              Secundario incompleto   \n",
       "\n",
       "    Condición de actividad  \n",
       "13                Inactivo  \n",
       "15                Inactivo  \n",
       "92                Inactivo  \n",
       "138               Inactivo  \n",
       "151               Inactivo  "
      ]
     },
     "execution_count": 18,
     "metadata": {},
     "output_type": "execute_result"
    }
   ],
   "source": [
    "filas = np.shape(estudio_discapacidad)[0] # [0] para la primera dimension\n",
    "print(f'Filas: {filas}')\n",
    "\n",
    "columnas = np.shape(estudio_discapacidad)[1] # [1] para la segunda dimension\n",
    "print(f'Columnas: {columnas}\\r\\n')\n",
    "\n",
    "\n",
    "estudio_discapacidad.head(5)"
   ]
  },
  {
   "cell_type": "code",
   "execution_count": 19,
   "metadata": {},
   "outputs": [],
   "source": [
    "ml_estudio = pd.get_dummies(estudio_discapacidad.iloc[:,1:-1])"
   ]
  },
  {
   "cell_type": "code",
   "execution_count": 20,
   "metadata": {},
   "outputs": [
    {
     "data": {
      "text/html": [
       "<div>\n",
       "<style scoped>\n",
       "    .dataframe tbody tr th:only-of-type {\n",
       "        vertical-align: middle;\n",
       "    }\n",
       "\n",
       "    .dataframe tbody tr th {\n",
       "        vertical-align: top;\n",
       "    }\n",
       "\n",
       "    .dataframe thead th {\n",
       "        text-align: right;\n",
       "    }\n",
       "</style>\n",
       "<table border=\"1\" class=\"dataframe\">\n",
       "  <thead>\n",
       "    <tr style=\"text-align: right;\">\n",
       "      <th></th>\n",
       "      <th>Cantidad de dificultades</th>\n",
       "      <th>Sexo_Mujer</th>\n",
       "      <th>Sexo_Varón</th>\n",
       "      <th>hogar_dificultad_Hogares con personas con dificultad</th>\n",
       "      <th>personas_dificultad_hogar_1</th>\n",
       "      <th>personas_dificultad_hogar_2</th>\n",
       "      <th>personas_dificultad_hogar_3</th>\n",
       "      <th>tipo_hogar_Hogar multipersonal familiar compuesto</th>\n",
       "      <th>tipo_hogar_Hogar multipersonal familiar extendido</th>\n",
       "      <th>tipo_hogar_Hogar multipersonal familiar nuclear</th>\n",
       "      <th>...</th>\n",
       "      <th>Cobertura de salud_Prepaga a través de una obra social o solo por contratación voluntaria</th>\n",
       "      <th>Cobertura de salud_Programas o planes estatales de salud (incluir Salud, ex PROFE)</th>\n",
       "      <th>Sabe leer y escribir_No</th>\n",
       "      <th>Sabe leer y escribir_Sí</th>\n",
       "      <th>Máximo nivel educativo alcanzado_Educación integral</th>\n",
       "      <th>Máximo nivel educativo alcanzado_Hasta primario completo</th>\n",
       "      <th>Máximo nivel educativo alcanzado_No especifica nivel/ignorado</th>\n",
       "      <th>Máximo nivel educativo alcanzado_Secundario completo</th>\n",
       "      <th>Máximo nivel educativo alcanzado_Secundario incompleto</th>\n",
       "      <th>Máximo nivel educativo alcanzado_Superior no universitario, universitario y posgrado incompleto y completo</th>\n",
       "    </tr>\n",
       "  </thead>\n",
       "  <tbody>\n",
       "    <tr>\n",
       "      <th>13</th>\n",
       "      <td>4</td>\n",
       "      <td>0</td>\n",
       "      <td>1</td>\n",
       "      <td>1</td>\n",
       "      <td>1</td>\n",
       "      <td>0</td>\n",
       "      <td>0</td>\n",
       "      <td>0</td>\n",
       "      <td>1</td>\n",
       "      <td>0</td>\n",
       "      <td>...</td>\n",
       "      <td>0</td>\n",
       "      <td>0</td>\n",
       "      <td>0</td>\n",
       "      <td>1</td>\n",
       "      <td>0</td>\n",
       "      <td>0</td>\n",
       "      <td>0</td>\n",
       "      <td>0</td>\n",
       "      <td>1</td>\n",
       "      <td>0</td>\n",
       "    </tr>\n",
       "    <tr>\n",
       "      <th>15</th>\n",
       "      <td>2</td>\n",
       "      <td>0</td>\n",
       "      <td>1</td>\n",
       "      <td>1</td>\n",
       "      <td>1</td>\n",
       "      <td>0</td>\n",
       "      <td>0</td>\n",
       "      <td>0</td>\n",
       "      <td>0</td>\n",
       "      <td>0</td>\n",
       "      <td>...</td>\n",
       "      <td>0</td>\n",
       "      <td>0</td>\n",
       "      <td>0</td>\n",
       "      <td>1</td>\n",
       "      <td>0</td>\n",
       "      <td>0</td>\n",
       "      <td>0</td>\n",
       "      <td>0</td>\n",
       "      <td>1</td>\n",
       "      <td>0</td>\n",
       "    </tr>\n",
       "    <tr>\n",
       "      <th>92</th>\n",
       "      <td>3</td>\n",
       "      <td>1</td>\n",
       "      <td>0</td>\n",
       "      <td>1</td>\n",
       "      <td>1</td>\n",
       "      <td>0</td>\n",
       "      <td>0</td>\n",
       "      <td>0</td>\n",
       "      <td>0</td>\n",
       "      <td>1</td>\n",
       "      <td>...</td>\n",
       "      <td>0</td>\n",
       "      <td>0</td>\n",
       "      <td>1</td>\n",
       "      <td>0</td>\n",
       "      <td>0</td>\n",
       "      <td>0</td>\n",
       "      <td>1</td>\n",
       "      <td>0</td>\n",
       "      <td>0</td>\n",
       "      <td>0</td>\n",
       "    </tr>\n",
       "  </tbody>\n",
       "</table>\n",
       "<p>3 rows × 40 columns</p>\n",
       "</div>"
      ],
      "text/plain": [
       "    Cantidad de dificultades  Sexo_Mujer  Sexo_Varón  \\\n",
       "13                         4           0           1   \n",
       "15                         2           0           1   \n",
       "92                         3           1           0   \n",
       "\n",
       "    hogar_dificultad_Hogares con personas con dificultad  \\\n",
       "13                                                  1      \n",
       "15                                                  1      \n",
       "92                                                  1      \n",
       "\n",
       "    personas_dificultad_hogar_1  personas_dificultad_hogar_2  \\\n",
       "13                            1                            0   \n",
       "15                            1                            0   \n",
       "92                            1                            0   \n",
       "\n",
       "    personas_dificultad_hogar_3  \\\n",
       "13                            0   \n",
       "15                            0   \n",
       "92                            0   \n",
       "\n",
       "    tipo_hogar_Hogar multipersonal familiar compuesto  \\\n",
       "13                                                  0   \n",
       "15                                                  0   \n",
       "92                                                  0   \n",
       "\n",
       "    tipo_hogar_Hogar multipersonal familiar extendido  \\\n",
       "13                                                  1   \n",
       "15                                                  0   \n",
       "92                                                  0   \n",
       "\n",
       "    tipo_hogar_Hogar multipersonal familiar nuclear  ...  \\\n",
       "13                                                0  ...   \n",
       "15                                                0  ...   \n",
       "92                                                1  ...   \n",
       "\n",
       "    Cobertura de salud_Prepaga a través de una obra social o solo por contratación voluntaria  \\\n",
       "13                                                  0                                           \n",
       "15                                                  0                                           \n",
       "92                                                  0                                           \n",
       "\n",
       "    Cobertura de salud_Programas o planes estatales de salud (incluir Salud, ex PROFE)  \\\n",
       "13                                                  0                                    \n",
       "15                                                  0                                    \n",
       "92                                                  0                                    \n",
       "\n",
       "    Sabe leer y escribir_No  Sabe leer y escribir_Sí  \\\n",
       "13                        0                        1   \n",
       "15                        0                        1   \n",
       "92                        1                        0   \n",
       "\n",
       "    Máximo nivel educativo alcanzado_Educación integral  \\\n",
       "13                                                  0     \n",
       "15                                                  0     \n",
       "92                                                  0     \n",
       "\n",
       "    Máximo nivel educativo alcanzado_Hasta primario completo  \\\n",
       "13                                                  0          \n",
       "15                                                  0          \n",
       "92                                                  0          \n",
       "\n",
       "    Máximo nivel educativo alcanzado_No especifica nivel/ignorado  \\\n",
       "13                                                  0               \n",
       "15                                                  0               \n",
       "92                                                  1               \n",
       "\n",
       "    Máximo nivel educativo alcanzado_Secundario completo  \\\n",
       "13                                                  0      \n",
       "15                                                  0      \n",
       "92                                                  0      \n",
       "\n",
       "    Máximo nivel educativo alcanzado_Secundario incompleto  \\\n",
       "13                                                  1        \n",
       "15                                                  1        \n",
       "92                                                  0        \n",
       "\n",
       "    Máximo nivel educativo alcanzado_Superior no universitario, universitario y posgrado incompleto y completo  \n",
       "13                                                  0                                                           \n",
       "15                                                  0                                                           \n",
       "92                                                  0                                                           \n",
       "\n",
       "[3 rows x 40 columns]"
      ]
     },
     "execution_count": 20,
     "metadata": {},
     "output_type": "execute_result"
    }
   ],
   "source": [
    "ml_estudio.head(3)"
   ]
  },
  {
   "cell_type": "code",
   "execution_count": 21,
   "metadata": {},
   "outputs": [],
   "source": [
    "condicion = estudio_discapacidad.iloc[:,-1]"
   ]
  },
  {
   "cell_type": "code",
   "execution_count": 22,
   "metadata": {},
   "outputs": [],
   "source": [
    "ml_estudio = pd.concat([ml_estudio, condicion], axis=1)"
   ]
  },
  {
   "cell_type": "code",
   "execution_count": 23,
   "metadata": {},
   "outputs": [
    {
     "data": {
      "text/html": [
       "<div>\n",
       "<style scoped>\n",
       "    .dataframe tbody tr th:only-of-type {\n",
       "        vertical-align: middle;\n",
       "    }\n",
       "\n",
       "    .dataframe tbody tr th {\n",
       "        vertical-align: top;\n",
       "    }\n",
       "\n",
       "    .dataframe thead th {\n",
       "        text-align: right;\n",
       "    }\n",
       "</style>\n",
       "<table border=\"1\" class=\"dataframe\">\n",
       "  <thead>\n",
       "    <tr style=\"text-align: right;\">\n",
       "      <th></th>\n",
       "      <th>Cantidad de dificultades</th>\n",
       "      <th>Sexo_Mujer</th>\n",
       "      <th>Sexo_Varón</th>\n",
       "      <th>hogar_dificultad_Hogares con personas con dificultad</th>\n",
       "      <th>personas_dificultad_hogar_1</th>\n",
       "      <th>personas_dificultad_hogar_2</th>\n",
       "      <th>personas_dificultad_hogar_3</th>\n",
       "      <th>tipo_hogar_Hogar multipersonal familiar compuesto</th>\n",
       "      <th>tipo_hogar_Hogar multipersonal familiar extendido</th>\n",
       "      <th>tipo_hogar_Hogar multipersonal familiar nuclear</th>\n",
       "      <th>...</th>\n",
       "      <th>Cobertura de salud_Programas o planes estatales de salud (incluir Salud, ex PROFE)</th>\n",
       "      <th>Sabe leer y escribir_No</th>\n",
       "      <th>Sabe leer y escribir_Sí</th>\n",
       "      <th>Máximo nivel educativo alcanzado_Educación integral</th>\n",
       "      <th>Máximo nivel educativo alcanzado_Hasta primario completo</th>\n",
       "      <th>Máximo nivel educativo alcanzado_No especifica nivel/ignorado</th>\n",
       "      <th>Máximo nivel educativo alcanzado_Secundario completo</th>\n",
       "      <th>Máximo nivel educativo alcanzado_Secundario incompleto</th>\n",
       "      <th>Máximo nivel educativo alcanzado_Superior no universitario, universitario y posgrado incompleto y completo</th>\n",
       "      <th>Condición de actividad</th>\n",
       "    </tr>\n",
       "  </thead>\n",
       "  <tbody>\n",
       "    <tr>\n",
       "      <th>13</th>\n",
       "      <td>4</td>\n",
       "      <td>0</td>\n",
       "      <td>1</td>\n",
       "      <td>1</td>\n",
       "      <td>1</td>\n",
       "      <td>0</td>\n",
       "      <td>0</td>\n",
       "      <td>0</td>\n",
       "      <td>1</td>\n",
       "      <td>0</td>\n",
       "      <td>...</td>\n",
       "      <td>0</td>\n",
       "      <td>0</td>\n",
       "      <td>1</td>\n",
       "      <td>0</td>\n",
       "      <td>0</td>\n",
       "      <td>0</td>\n",
       "      <td>0</td>\n",
       "      <td>1</td>\n",
       "      <td>0</td>\n",
       "      <td>Inactivo</td>\n",
       "    </tr>\n",
       "    <tr>\n",
       "      <th>15</th>\n",
       "      <td>2</td>\n",
       "      <td>0</td>\n",
       "      <td>1</td>\n",
       "      <td>1</td>\n",
       "      <td>1</td>\n",
       "      <td>0</td>\n",
       "      <td>0</td>\n",
       "      <td>0</td>\n",
       "      <td>0</td>\n",
       "      <td>0</td>\n",
       "      <td>...</td>\n",
       "      <td>0</td>\n",
       "      <td>0</td>\n",
       "      <td>1</td>\n",
       "      <td>0</td>\n",
       "      <td>0</td>\n",
       "      <td>0</td>\n",
       "      <td>0</td>\n",
       "      <td>1</td>\n",
       "      <td>0</td>\n",
       "      <td>Inactivo</td>\n",
       "    </tr>\n",
       "    <tr>\n",
       "      <th>92</th>\n",
       "      <td>3</td>\n",
       "      <td>1</td>\n",
       "      <td>0</td>\n",
       "      <td>1</td>\n",
       "      <td>1</td>\n",
       "      <td>0</td>\n",
       "      <td>0</td>\n",
       "      <td>0</td>\n",
       "      <td>0</td>\n",
       "      <td>1</td>\n",
       "      <td>...</td>\n",
       "      <td>0</td>\n",
       "      <td>1</td>\n",
       "      <td>0</td>\n",
       "      <td>0</td>\n",
       "      <td>0</td>\n",
       "      <td>1</td>\n",
       "      <td>0</td>\n",
       "      <td>0</td>\n",
       "      <td>0</td>\n",
       "      <td>Inactivo</td>\n",
       "    </tr>\n",
       "    <tr>\n",
       "      <th>138</th>\n",
       "      <td>2</td>\n",
       "      <td>1</td>\n",
       "      <td>0</td>\n",
       "      <td>1</td>\n",
       "      <td>1</td>\n",
       "      <td>0</td>\n",
       "      <td>0</td>\n",
       "      <td>0</td>\n",
       "      <td>0</td>\n",
       "      <td>1</td>\n",
       "      <td>...</td>\n",
       "      <td>0</td>\n",
       "      <td>0</td>\n",
       "      <td>1</td>\n",
       "      <td>0</td>\n",
       "      <td>0</td>\n",
       "      <td>0</td>\n",
       "      <td>0</td>\n",
       "      <td>0</td>\n",
       "      <td>1</td>\n",
       "      <td>Inactivo</td>\n",
       "    </tr>\n",
       "    <tr>\n",
       "      <th>151</th>\n",
       "      <td>1</td>\n",
       "      <td>1</td>\n",
       "      <td>0</td>\n",
       "      <td>1</td>\n",
       "      <td>0</td>\n",
       "      <td>1</td>\n",
       "      <td>0</td>\n",
       "      <td>0</td>\n",
       "      <td>1</td>\n",
       "      <td>0</td>\n",
       "      <td>...</td>\n",
       "      <td>0</td>\n",
       "      <td>0</td>\n",
       "      <td>1</td>\n",
       "      <td>0</td>\n",
       "      <td>0</td>\n",
       "      <td>0</td>\n",
       "      <td>0</td>\n",
       "      <td>1</td>\n",
       "      <td>0</td>\n",
       "      <td>Inactivo</td>\n",
       "    </tr>\n",
       "  </tbody>\n",
       "</table>\n",
       "<p>5 rows × 41 columns</p>\n",
       "</div>"
      ],
      "text/plain": [
       "     Cantidad de dificultades  Sexo_Mujer  Sexo_Varón  \\\n",
       "13                          4           0           1   \n",
       "15                          2           0           1   \n",
       "92                          3           1           0   \n",
       "138                         2           1           0   \n",
       "151                         1           1           0   \n",
       "\n",
       "     hogar_dificultad_Hogares con personas con dificultad  \\\n",
       "13                                                   1      \n",
       "15                                                   1      \n",
       "92                                                   1      \n",
       "138                                                  1      \n",
       "151                                                  1      \n",
       "\n",
       "     personas_dificultad_hogar_1  personas_dificultad_hogar_2  \\\n",
       "13                             1                            0   \n",
       "15                             1                            0   \n",
       "92                             1                            0   \n",
       "138                            1                            0   \n",
       "151                            0                            1   \n",
       "\n",
       "     personas_dificultad_hogar_3  \\\n",
       "13                             0   \n",
       "15                             0   \n",
       "92                             0   \n",
       "138                            0   \n",
       "151                            0   \n",
       "\n",
       "     tipo_hogar_Hogar multipersonal familiar compuesto  \\\n",
       "13                                                   0   \n",
       "15                                                   0   \n",
       "92                                                   0   \n",
       "138                                                  0   \n",
       "151                                                  0   \n",
       "\n",
       "     tipo_hogar_Hogar multipersonal familiar extendido  \\\n",
       "13                                                   1   \n",
       "15                                                   0   \n",
       "92                                                   0   \n",
       "138                                                  0   \n",
       "151                                                  1   \n",
       "\n",
       "     tipo_hogar_Hogar multipersonal familiar nuclear  ...  \\\n",
       "13                                                 0  ...   \n",
       "15                                                 0  ...   \n",
       "92                                                 1  ...   \n",
       "138                                                1  ...   \n",
       "151                                                0  ...   \n",
       "\n",
       "     Cobertura de salud_Programas o planes estatales de salud (incluir Salud, ex PROFE)  \\\n",
       "13                                                   0                                    \n",
       "15                                                   0                                    \n",
       "92                                                   0                                    \n",
       "138                                                  0                                    \n",
       "151                                                  0                                    \n",
       "\n",
       "     Sabe leer y escribir_No  Sabe leer y escribir_Sí  \\\n",
       "13                         0                        1   \n",
       "15                         0                        1   \n",
       "92                         1                        0   \n",
       "138                        0                        1   \n",
       "151                        0                        1   \n",
       "\n",
       "     Máximo nivel educativo alcanzado_Educación integral  \\\n",
       "13                                                   0     \n",
       "15                                                   0     \n",
       "92                                                   0     \n",
       "138                                                  0     \n",
       "151                                                  0     \n",
       "\n",
       "     Máximo nivel educativo alcanzado_Hasta primario completo  \\\n",
       "13                                                   0          \n",
       "15                                                   0          \n",
       "92                                                   0          \n",
       "138                                                  0          \n",
       "151                                                  0          \n",
       "\n",
       "     Máximo nivel educativo alcanzado_No especifica nivel/ignorado  \\\n",
       "13                                                   0               \n",
       "15                                                   0               \n",
       "92                                                   1               \n",
       "138                                                  0               \n",
       "151                                                  0               \n",
       "\n",
       "     Máximo nivel educativo alcanzado_Secundario completo  \\\n",
       "13                                                   0      \n",
       "15                                                   0      \n",
       "92                                                   0      \n",
       "138                                                  0      \n",
       "151                                                  0      \n",
       "\n",
       "     Máximo nivel educativo alcanzado_Secundario incompleto  \\\n",
       "13                                                   1        \n",
       "15                                                   1        \n",
       "92                                                   0        \n",
       "138                                                  0        \n",
       "151                                                  1        \n",
       "\n",
       "     Máximo nivel educativo alcanzado_Superior no universitario, universitario y posgrado incompleto y completo  \\\n",
       "13                                                   0                                                            \n",
       "15                                                   0                                                            \n",
       "92                                                   0                                                            \n",
       "138                                                  1                                                            \n",
       "151                                                  0                                                            \n",
       "\n",
       "     Condición de actividad  \n",
       "13                 Inactivo  \n",
       "15                 Inactivo  \n",
       "92                 Inactivo  \n",
       "138                Inactivo  \n",
       "151                Inactivo  \n",
       "\n",
       "[5 rows x 41 columns]"
      ]
     },
     "execution_count": 23,
     "metadata": {},
     "output_type": "execute_result"
    }
   ],
   "source": [
    "ml_estudio.head()"
   ]
  },
  {
   "cell_type": "code",
   "execution_count": 24,
   "metadata": {},
   "outputs": [],
   "source": [
    "# Guardamos feature matrix en \"X\"\n",
    "X = ml_estudio.iloc[:,0:-1]                          # slicing: todas las filas y columnas 1 a 4\n",
    "\n",
    "# Guardamos target vector in \"y\"\n",
    "y = ml_estudio.iloc[:,-1] "
   ]
  },
  {
   "cell_type": "code",
   "execution_count": 25,
   "metadata": {},
   "outputs": [
    {
     "name": "stdout",
     "output_type": "stream",
     "text": [
      "(4389,)\n",
      "(4389, 40)\n"
     ]
    }
   ],
   "source": [
    "print(y.shape)\n",
    "print(X.shape)"
   ]
  },
  {
   "cell_type": "code",
   "execution_count": 26,
   "metadata": {},
   "outputs": [
    {
     "name": "stdout",
     "output_type": "stream",
     "text": [
      "Classes: ['Desocupado' 'Inactivo' 'Ocupado']\n",
      "Response variable after encoding: [1 1 1 ... 2 2 1]\n"
     ]
    },
    {
     "data": {
      "text/html": [
       "<div>\n",
       "<style scoped>\n",
       "    .dataframe tbody tr th:only-of-type {\n",
       "        vertical-align: middle;\n",
       "    }\n",
       "\n",
       "    .dataframe tbody tr th {\n",
       "        vertical-align: top;\n",
       "    }\n",
       "\n",
       "    .dataframe thead th {\n",
       "        text-align: right;\n",
       "    }\n",
       "</style>\n",
       "<table border=\"1\" class=\"dataframe\">\n",
       "  <thead>\n",
       "    <tr style=\"text-align: right;\">\n",
       "      <th></th>\n",
       "      <th>Cantidad de dificultades</th>\n",
       "      <th>Sexo_Mujer</th>\n",
       "      <th>Sexo_Varón</th>\n",
       "      <th>hogar_dificultad_Hogares con personas con dificultad</th>\n",
       "      <th>personas_dificultad_hogar_1</th>\n",
       "      <th>personas_dificultad_hogar_2</th>\n",
       "      <th>personas_dificultad_hogar_3</th>\n",
       "      <th>tipo_hogar_Hogar multipersonal familiar compuesto</th>\n",
       "      <th>tipo_hogar_Hogar multipersonal familiar extendido</th>\n",
       "      <th>tipo_hogar_Hogar multipersonal familiar nuclear</th>\n",
       "      <th>...</th>\n",
       "      <th>Sabe leer y escribir_No</th>\n",
       "      <th>Sabe leer y escribir_Sí</th>\n",
       "      <th>Máximo nivel educativo alcanzado_Educación integral</th>\n",
       "      <th>Máximo nivel educativo alcanzado_Hasta primario completo</th>\n",
       "      <th>Máximo nivel educativo alcanzado_No especifica nivel/ignorado</th>\n",
       "      <th>Máximo nivel educativo alcanzado_Secundario completo</th>\n",
       "      <th>Máximo nivel educativo alcanzado_Secundario incompleto</th>\n",
       "      <th>Máximo nivel educativo alcanzado_Superior no universitario, universitario y posgrado incompleto y completo</th>\n",
       "      <th>Condición de actividad</th>\n",
       "      <th>Encoded Condition</th>\n",
       "    </tr>\n",
       "  </thead>\n",
       "  <tbody>\n",
       "    <tr>\n",
       "      <th>82169</th>\n",
       "      <td>1</td>\n",
       "      <td>1</td>\n",
       "      <td>0</td>\n",
       "      <td>1</td>\n",
       "      <td>1</td>\n",
       "      <td>0</td>\n",
       "      <td>0</td>\n",
       "      <td>0</td>\n",
       "      <td>1</td>\n",
       "      <td>0</td>\n",
       "      <td>...</td>\n",
       "      <td>0</td>\n",
       "      <td>1</td>\n",
       "      <td>0</td>\n",
       "      <td>0</td>\n",
       "      <td>0</td>\n",
       "      <td>1</td>\n",
       "      <td>0</td>\n",
       "      <td>0</td>\n",
       "      <td>Ocupado</td>\n",
       "      <td>2</td>\n",
       "    </tr>\n",
       "    <tr>\n",
       "      <th>82192</th>\n",
       "      <td>1</td>\n",
       "      <td>1</td>\n",
       "      <td>0</td>\n",
       "      <td>1</td>\n",
       "      <td>0</td>\n",
       "      <td>1</td>\n",
       "      <td>0</td>\n",
       "      <td>0</td>\n",
       "      <td>1</td>\n",
       "      <td>0</td>\n",
       "      <td>...</td>\n",
       "      <td>0</td>\n",
       "      <td>1</td>\n",
       "      <td>0</td>\n",
       "      <td>1</td>\n",
       "      <td>0</td>\n",
       "      <td>0</td>\n",
       "      <td>0</td>\n",
       "      <td>0</td>\n",
       "      <td>Inactivo</td>\n",
       "      <td>1</td>\n",
       "    </tr>\n",
       "    <tr>\n",
       "      <th>82200</th>\n",
       "      <td>4</td>\n",
       "      <td>0</td>\n",
       "      <td>1</td>\n",
       "      <td>1</td>\n",
       "      <td>1</td>\n",
       "      <td>0</td>\n",
       "      <td>0</td>\n",
       "      <td>0</td>\n",
       "      <td>0</td>\n",
       "      <td>1</td>\n",
       "      <td>...</td>\n",
       "      <td>0</td>\n",
       "      <td>1</td>\n",
       "      <td>0</td>\n",
       "      <td>0</td>\n",
       "      <td>0</td>\n",
       "      <td>0</td>\n",
       "      <td>0</td>\n",
       "      <td>1</td>\n",
       "      <td>Inactivo</td>\n",
       "      <td>1</td>\n",
       "    </tr>\n",
       "    <tr>\n",
       "      <th>82205</th>\n",
       "      <td>1</td>\n",
       "      <td>0</td>\n",
       "      <td>1</td>\n",
       "      <td>1</td>\n",
       "      <td>1</td>\n",
       "      <td>0</td>\n",
       "      <td>0</td>\n",
       "      <td>0</td>\n",
       "      <td>0</td>\n",
       "      <td>1</td>\n",
       "      <td>...</td>\n",
       "      <td>0</td>\n",
       "      <td>1</td>\n",
       "      <td>0</td>\n",
       "      <td>0</td>\n",
       "      <td>0</td>\n",
       "      <td>0</td>\n",
       "      <td>0</td>\n",
       "      <td>1</td>\n",
       "      <td>Ocupado</td>\n",
       "      <td>2</td>\n",
       "    </tr>\n",
       "    <tr>\n",
       "      <th>82227</th>\n",
       "      <td>1</td>\n",
       "      <td>1</td>\n",
       "      <td>0</td>\n",
       "      <td>1</td>\n",
       "      <td>1</td>\n",
       "      <td>0</td>\n",
       "      <td>0</td>\n",
       "      <td>0</td>\n",
       "      <td>0</td>\n",
       "      <td>1</td>\n",
       "      <td>...</td>\n",
       "      <td>0</td>\n",
       "      <td>1</td>\n",
       "      <td>0</td>\n",
       "      <td>0</td>\n",
       "      <td>0</td>\n",
       "      <td>0</td>\n",
       "      <td>1</td>\n",
       "      <td>0</td>\n",
       "      <td>Ocupado</td>\n",
       "      <td>2</td>\n",
       "    </tr>\n",
       "    <tr>\n",
       "      <th>82234</th>\n",
       "      <td>3</td>\n",
       "      <td>0</td>\n",
       "      <td>1</td>\n",
       "      <td>1</td>\n",
       "      <td>1</td>\n",
       "      <td>0</td>\n",
       "      <td>0</td>\n",
       "      <td>0</td>\n",
       "      <td>0</td>\n",
       "      <td>1</td>\n",
       "      <td>...</td>\n",
       "      <td>1</td>\n",
       "      <td>0</td>\n",
       "      <td>0</td>\n",
       "      <td>0</td>\n",
       "      <td>1</td>\n",
       "      <td>0</td>\n",
       "      <td>0</td>\n",
       "      <td>0</td>\n",
       "      <td>Inactivo</td>\n",
       "      <td>1</td>\n",
       "    </tr>\n",
       "    <tr>\n",
       "      <th>82251</th>\n",
       "      <td>1</td>\n",
       "      <td>0</td>\n",
       "      <td>1</td>\n",
       "      <td>1</td>\n",
       "      <td>1</td>\n",
       "      <td>0</td>\n",
       "      <td>0</td>\n",
       "      <td>0</td>\n",
       "      <td>1</td>\n",
       "      <td>0</td>\n",
       "      <td>...</td>\n",
       "      <td>0</td>\n",
       "      <td>1</td>\n",
       "      <td>0</td>\n",
       "      <td>0</td>\n",
       "      <td>0</td>\n",
       "      <td>0</td>\n",
       "      <td>0</td>\n",
       "      <td>1</td>\n",
       "      <td>Ocupado</td>\n",
       "      <td>2</td>\n",
       "    </tr>\n",
       "    <tr>\n",
       "      <th>82254</th>\n",
       "      <td>1</td>\n",
       "      <td>0</td>\n",
       "      <td>1</td>\n",
       "      <td>1</td>\n",
       "      <td>1</td>\n",
       "      <td>0</td>\n",
       "      <td>0</td>\n",
       "      <td>0</td>\n",
       "      <td>0</td>\n",
       "      <td>1</td>\n",
       "      <td>...</td>\n",
       "      <td>1</td>\n",
       "      <td>0</td>\n",
       "      <td>0</td>\n",
       "      <td>1</td>\n",
       "      <td>0</td>\n",
       "      <td>0</td>\n",
       "      <td>0</td>\n",
       "      <td>0</td>\n",
       "      <td>Ocupado</td>\n",
       "      <td>2</td>\n",
       "    </tr>\n",
       "    <tr>\n",
       "      <th>82288</th>\n",
       "      <td>1</td>\n",
       "      <td>1</td>\n",
       "      <td>0</td>\n",
       "      <td>1</td>\n",
       "      <td>1</td>\n",
       "      <td>0</td>\n",
       "      <td>0</td>\n",
       "      <td>0</td>\n",
       "      <td>0</td>\n",
       "      <td>0</td>\n",
       "      <td>...</td>\n",
       "      <td>0</td>\n",
       "      <td>1</td>\n",
       "      <td>0</td>\n",
       "      <td>0</td>\n",
       "      <td>0</td>\n",
       "      <td>0</td>\n",
       "      <td>1</td>\n",
       "      <td>0</td>\n",
       "      <td>Ocupado</td>\n",
       "      <td>2</td>\n",
       "    </tr>\n",
       "    <tr>\n",
       "      <th>82289</th>\n",
       "      <td>1</td>\n",
       "      <td>0</td>\n",
       "      <td>1</td>\n",
       "      <td>1</td>\n",
       "      <td>1</td>\n",
       "      <td>0</td>\n",
       "      <td>0</td>\n",
       "      <td>0</td>\n",
       "      <td>0</td>\n",
       "      <td>1</td>\n",
       "      <td>...</td>\n",
       "      <td>0</td>\n",
       "      <td>1</td>\n",
       "      <td>0</td>\n",
       "      <td>0</td>\n",
       "      <td>0</td>\n",
       "      <td>0</td>\n",
       "      <td>0</td>\n",
       "      <td>1</td>\n",
       "      <td>Inactivo</td>\n",
       "      <td>1</td>\n",
       "    </tr>\n",
       "  </tbody>\n",
       "</table>\n",
       "<p>10 rows × 42 columns</p>\n",
       "</div>"
      ],
      "text/plain": [
       "       Cantidad de dificultades  Sexo_Mujer  Sexo_Varón  \\\n",
       "82169                         1           1           0   \n",
       "82192                         1           1           0   \n",
       "82200                         4           0           1   \n",
       "82205                         1           0           1   \n",
       "82227                         1           1           0   \n",
       "82234                         3           0           1   \n",
       "82251                         1           0           1   \n",
       "82254                         1           0           1   \n",
       "82288                         1           1           0   \n",
       "82289                         1           0           1   \n",
       "\n",
       "       hogar_dificultad_Hogares con personas con dificultad  \\\n",
       "82169                                                  1      \n",
       "82192                                                  1      \n",
       "82200                                                  1      \n",
       "82205                                                  1      \n",
       "82227                                                  1      \n",
       "82234                                                  1      \n",
       "82251                                                  1      \n",
       "82254                                                  1      \n",
       "82288                                                  1      \n",
       "82289                                                  1      \n",
       "\n",
       "       personas_dificultad_hogar_1  personas_dificultad_hogar_2  \\\n",
       "82169                            1                            0   \n",
       "82192                            0                            1   \n",
       "82200                            1                            0   \n",
       "82205                            1                            0   \n",
       "82227                            1                            0   \n",
       "82234                            1                            0   \n",
       "82251                            1                            0   \n",
       "82254                            1                            0   \n",
       "82288                            1                            0   \n",
       "82289                            1                            0   \n",
       "\n",
       "       personas_dificultad_hogar_3  \\\n",
       "82169                            0   \n",
       "82192                            0   \n",
       "82200                            0   \n",
       "82205                            0   \n",
       "82227                            0   \n",
       "82234                            0   \n",
       "82251                            0   \n",
       "82254                            0   \n",
       "82288                            0   \n",
       "82289                            0   \n",
       "\n",
       "       tipo_hogar_Hogar multipersonal familiar compuesto  \\\n",
       "82169                                                  0   \n",
       "82192                                                  0   \n",
       "82200                                                  0   \n",
       "82205                                                  0   \n",
       "82227                                                  0   \n",
       "82234                                                  0   \n",
       "82251                                                  0   \n",
       "82254                                                  0   \n",
       "82288                                                  0   \n",
       "82289                                                  0   \n",
       "\n",
       "       tipo_hogar_Hogar multipersonal familiar extendido  \\\n",
       "82169                                                  1   \n",
       "82192                                                  1   \n",
       "82200                                                  0   \n",
       "82205                                                  0   \n",
       "82227                                                  0   \n",
       "82234                                                  0   \n",
       "82251                                                  1   \n",
       "82254                                                  0   \n",
       "82288                                                  0   \n",
       "82289                                                  0   \n",
       "\n",
       "       tipo_hogar_Hogar multipersonal familiar nuclear  ...  \\\n",
       "82169                                                0  ...   \n",
       "82192                                                0  ...   \n",
       "82200                                                1  ...   \n",
       "82205                                                1  ...   \n",
       "82227                                                1  ...   \n",
       "82234                                                1  ...   \n",
       "82251                                                0  ...   \n",
       "82254                                                1  ...   \n",
       "82288                                                0  ...   \n",
       "82289                                                1  ...   \n",
       "\n",
       "       Sabe leer y escribir_No  Sabe leer y escribir_Sí  \\\n",
       "82169                        0                        1   \n",
       "82192                        0                        1   \n",
       "82200                        0                        1   \n",
       "82205                        0                        1   \n",
       "82227                        0                        1   \n",
       "82234                        1                        0   \n",
       "82251                        0                        1   \n",
       "82254                        1                        0   \n",
       "82288                        0                        1   \n",
       "82289                        0                        1   \n",
       "\n",
       "       Máximo nivel educativo alcanzado_Educación integral  \\\n",
       "82169                                                  0     \n",
       "82192                                                  0     \n",
       "82200                                                  0     \n",
       "82205                                                  0     \n",
       "82227                                                  0     \n",
       "82234                                                  0     \n",
       "82251                                                  0     \n",
       "82254                                                  0     \n",
       "82288                                                  0     \n",
       "82289                                                  0     \n",
       "\n",
       "       Máximo nivel educativo alcanzado_Hasta primario completo  \\\n",
       "82169                                                  0          \n",
       "82192                                                  1          \n",
       "82200                                                  0          \n",
       "82205                                                  0          \n",
       "82227                                                  0          \n",
       "82234                                                  0          \n",
       "82251                                                  0          \n",
       "82254                                                  1          \n",
       "82288                                                  0          \n",
       "82289                                                  0          \n",
       "\n",
       "       Máximo nivel educativo alcanzado_No especifica nivel/ignorado  \\\n",
       "82169                                                  0               \n",
       "82192                                                  0               \n",
       "82200                                                  0               \n",
       "82205                                                  0               \n",
       "82227                                                  0               \n",
       "82234                                                  1               \n",
       "82251                                                  0               \n",
       "82254                                                  0               \n",
       "82288                                                  0               \n",
       "82289                                                  0               \n",
       "\n",
       "       Máximo nivel educativo alcanzado_Secundario completo  \\\n",
       "82169                                                  1      \n",
       "82192                                                  0      \n",
       "82200                                                  0      \n",
       "82205                                                  0      \n",
       "82227                                                  0      \n",
       "82234                                                  0      \n",
       "82251                                                  0      \n",
       "82254                                                  0      \n",
       "82288                                                  0      \n",
       "82289                                                  0      \n",
       "\n",
       "       Máximo nivel educativo alcanzado_Secundario incompleto  \\\n",
       "82169                                                  0        \n",
       "82192                                                  0        \n",
       "82200                                                  0        \n",
       "82205                                                  0        \n",
       "82227                                                  1        \n",
       "82234                                                  0        \n",
       "82251                                                  0        \n",
       "82254                                                  0        \n",
       "82288                                                  1        \n",
       "82289                                                  0        \n",
       "\n",
       "       Máximo nivel educativo alcanzado_Superior no universitario, universitario y posgrado incompleto y completo  \\\n",
       "82169                                                  0                                                            \n",
       "82192                                                  0                                                            \n",
       "82200                                                  1                                                            \n",
       "82205                                                  1                                                            \n",
       "82227                                                  0                                                            \n",
       "82234                                                  0                                                            \n",
       "82251                                                  1                                                            \n",
       "82254                                                  0                                                            \n",
       "82288                                                  0                                                            \n",
       "82289                                                  1                                                            \n",
       "\n",
       "       Condición de actividad  Encoded Condition  \n",
       "82169                 Ocupado                  2  \n",
       "82192                Inactivo                  1  \n",
       "82200                Inactivo                  1  \n",
       "82205                 Ocupado                  2  \n",
       "82227                 Ocupado                  2  \n",
       "82234                Inactivo                  1  \n",
       "82251                 Ocupado                  2  \n",
       "82254                 Ocupado                  2  \n",
       "82288                 Ocupado                  2  \n",
       "82289                Inactivo                  1  \n",
       "\n",
       "[10 rows x 42 columns]"
      ]
     },
     "execution_count": 26,
     "metadata": {},
     "output_type": "execute_result"
    }
   ],
   "source": [
    "# 1 - Primero creo un objeto (con determinados argumentos) que llama a la funcion que deseo\n",
    "le = preprocessing.LabelEncoder()\n",
    "\n",
    "# 2 - AL objeto le aplico la funcion fit a los datos desados \n",
    "y=le.fit_transform(y)\n",
    "\n",
    "# 3 - Agregamos la nueva columna a nuestro data set \n",
    "ml_estudio['Encoded Condition'] = y\n",
    "\n",
    "print('Classes:',le.classes_)\n",
    "print('Response variable after encoding:',y)\n",
    "ml_estudio.tail(10)"
   ]
  },
  {
   "cell_type": "code",
   "execution_count": 27,
   "metadata": {},
   "outputs": [
    {
     "name": "stdout",
     "output_type": "stream",
     "text": [
      "(3511, 40)\n",
      "(3511,)\n"
     ]
    }
   ],
   "source": [
    "# Step 3: separar train y test\n",
    "from sklearn.model_selection import train_test_split\n",
    "x_train, x_test, y_train, y_test = train_test_split(X, y, test_size=0.2, random_state=4)\n",
    "#random_state: seed utilizada para poder replicar el experimento ya que la funcion tiene\n",
    "#componentes aleatorios\n",
    "#test_size: numero entre 0 y 1 e indicar la proporcion del dataset que va a ser test. \n",
    "print(x_train.shape)\n",
    "print(y_train.shape)"
   ]
  },
  {
   "cell_type": "code",
   "execution_count": 28,
   "metadata": {},
   "outputs": [],
   "source": [
    "# Importamos MinMaxScaler\n",
    "from sklearn.preprocessing import MinMaxScaler\n",
    "# Definimos el escalador\n",
    "scaler = MinMaxScaler()\n",
    "# Fiteamos para los x_train\n",
    "scaler = scaler.fit(x_train)"
   ]
  },
  {
   "cell_type": "code",
   "execution_count": 29,
   "metadata": {},
   "outputs": [
    {
     "name": "stdout",
     "output_type": "stream",
     "text": [
      "[0.24731795 0.55340359 0.44659641 0.         0.65764739 0.26829963\n",
      " 0.07405298 0.0133865  0.28681287 0.61634862 0.00427229 0.07917972\n",
      " 0.36998006 0.63001994 0.15665053 0.08145827 0.13528909 0.00484193\n",
      " 0.00939903 0.09142694 0.25263458 0.1785816  0.08971803 0.14070066\n",
      " 0.27883794 0.54713757 0.01879806 0.01452578 0.31444033 0.42779835\n",
      " 0.0937055  0.16405582 0.11706067 0.88293933 0.02022216 0.35403019\n",
      " 0.09142694 0.15608089 0.22671604 0.15152378]\n",
      "[0.36249581 0.49713988 0.49713988 0.         0.47449689 0.44307442\n",
      " 0.26185709 0.11492302 0.45227342 0.48627461 0.06522296 0.27001906\n",
      " 0.48279894 0.48279894 0.36347096 0.27353761 0.34203209 0.06941528\n",
      " 0.09649192 0.2882153  0.43452313 0.38300158 0.28577737 0.3477125\n",
      " 0.44842763 0.49777309 0.13581125 0.11964438 0.46429259 0.49475946\n",
      " 0.29141856 0.37032622 0.32149256 0.32149256 0.14075945 0.47821838\n",
      " 0.2882153  0.36293201 0.41870739 0.35855868]\n"
     ]
    }
   ],
   "source": [
    "x_train_scaled = scaler.transform(x_train)  \n",
    "print(x_train_scaled.mean(axis=0))\n",
    "print(x_train_scaled.std(axis=0))"
   ]
  },
  {
   "cell_type": "code",
   "execution_count": 30,
   "metadata": {},
   "outputs": [
    {
     "name": "stdout",
     "output_type": "stream",
     "text": [
      "[0.24373576 0.56492027 0.43507973 0.         0.66742597 0.25512528\n",
      " 0.07744875 0.02164009 0.31548975 0.57517084 0.00569476 0.08200456\n",
      " 0.37015945 0.62984055 0.16173121 0.07744875 0.13667426 0.00341686\n",
      " 0.00911162 0.08883827 0.27448747 0.16856492 0.07972665 0.1332574\n",
      " 0.28587699 0.54100228 0.0284738  0.01138952 0.33712984 0.40318907\n",
      " 0.09681093 0.16287016 0.11047836 0.88952164 0.02164009 0.31207289\n",
      " 0.09908884 0.18678815 0.2357631  0.14464692]\n",
      "[0.36148491 0.49576744 0.49576744 0.         0.47113538 0.43593162\n",
      " 0.26730215 0.14550532 0.46471063 0.49431705 0.07524846 0.27437166\n",
      " 0.48284721 0.48284721 0.36820405 0.26730215 0.34350314 0.05835393\n",
      " 0.09501892 0.28451016 0.44625564 0.37436718 0.27086955 0.33985271\n",
      " 0.45183109 0.49831598 0.16632212 0.10611221 0.47272964 0.49053812\n",
      " 0.29570015 0.36924717 0.31348507 0.31348507 0.14550532 0.4633394\n",
      " 0.29878126 0.38974138 0.4244748  0.3517445 ]\n"
     ]
    }
   ],
   "source": [
    "x_test_scaled = scaler.transform(x_test)  \n",
    "print(x_test_scaled.mean(axis=0))\n",
    "print(x_test_scaled.std(axis=0))"
   ]
  },
  {
   "cell_type": "code",
   "execution_count": 31,
   "metadata": {},
   "outputs": [],
   "source": [
    "from sklearn import svm, datasets\n",
    "from sklearn.model_selection import GridSearchCV\n",
    "from sklearn.svm import SVC\n",
    "\n",
    "parameters = {'C': [0.1,1, 10, 100], 'gamma': [1,0.1,0.01,0.001],'kernel': ['rbf']}\n",
    "svc = svm.SVC()\n",
    "clf = GridSearchCV(svc, param_grid = parameters, refit = True, cv = 5)\n",
    "#cv indica la cantidad de folds\n",
    "#refit nos permite ajustar la muestra al final con los mejores parametros encontrados"
   ]
  },
  {
   "cell_type": "code",
   "execution_count": 32,
   "metadata": {},
   "outputs": [
    {
     "data": {
      "text/plain": [
       "GridSearchCV(cv=5, estimator=SVC(),\n",
       "             param_grid={'C': [0.1, 1, 10, 100], 'gamma': [1, 0.1, 0.01, 0.001],\n",
       "                         'kernel': ['rbf']})"
      ]
     },
     "execution_count": 32,
     "metadata": {},
     "output_type": "execute_result"
    }
   ],
   "source": [
    "clf.fit(x_train_scaled, y_train.ravel())"
   ]
  },
  {
   "cell_type": "code",
   "execution_count": 33,
   "metadata": {},
   "outputs": [
    {
     "name": "stdout",
     "output_type": "stream",
     "text": [
      "The best parameters are {'C': 1, 'gamma': 0.1, 'kernel': 'rbf'} with a score of 0.63\n"
     ]
    }
   ],
   "source": [
    "print(\"The best parameters are %s with a score of %0.2f\" % (clf.best_params_, clf.best_score_))"
   ]
  },
  {
   "cell_type": "code",
   "execution_count": 34,
   "metadata": {},
   "outputs": [
    {
     "name": "stdout",
     "output_type": "stream",
     "text": [
      "[1 1 2 1 1 2 1 2 2 2 2 2 2 1 1 1 1 2 1 2 1 1 1 1 1 2 2 2 2 2 1 2 1 2 2 1 1\n",
      " 1 2 2 1 2 1 1 1 1 1 1 2 2 1 1 2 2 2 2 2 1 1 1 2 1 1 2 2 2 2 2 2 2 2 1 1 2\n",
      " 2 1 2 2 1 1 2 1 2 1 1 1 1 2 2 2 2 2 1 1 2 2 1 1 2 1 1 1 2 2 2 2 1 1 2 1 2\n",
      " 2 1 1 1 1 2 2 1 2 1 2 2 1 2 2 1 2 2 1 1 2 2 2 2 1 2 1 1 2 2 1 2 1 2 1 2 2\n",
      " 2 2 1 1 2 2 1 1 1 1 2 2 2 1 1 2 1 2 2 2 2 1 2 1 1 1 2 1 2 2 2 1 1 1 1 1 1\n",
      " 2 2 1 2 2 2 1 2 2 2 2 2 2 2 1 2 2 2 2 2 1 1 2 1 1 2 2 1 1 2 1 2 2 1 2 2 2\n",
      " 1 1 2 1 2 2 1 1 1 1 2 2 1 2 1 1 1 2 1 1 1 1 2 1 2 1 1 1 2 1 2 2 1 2 1 1 2\n",
      " 2 1 2 2 2 1 1 1 2 1 1 1 1 2 1 1 1 2 1 1 2 2 2 1 2 2 2 2 1 1 2 2 1 1 1 2 1\n",
      " 2 2 2 1 1 2 2 1 2 2 1 2 1 2 1 2 2 2 2 1 1 2 1 2 2 2 2 2 1 2 1 1 2 1 1 1 2\n",
      " 1 1 1 1 2 1 1 1 1 1 1 1 1 1 1 2 1 2 1 2 2 2 2 2 1 1 1 1 2 1 2 2 1 1 1 2 1\n",
      " 1 2 1 2 1 1 1 1 1 1 2 1 2 1 1 1 1 2 2 2 2 2 2 2 1 2 1 1 2 2 1 1 1 1 2 1 2\n",
      " 2 1 1 1 1 2 2 2 1 2 1 2 1 2 1 2 2 2 1 1 1 2 1 1 2 2 2 1 1 2 1 1 2 1 1 1 1\n",
      " 1 2 2 1 1 1 1 1 1 1 2 1 1 1 2 1 1 1 1 2 1 2 2 1 2 2 2 1 1 2 1 1 2 2 1 1 2\n",
      " 2 2 2 1 1 1 2 1 1 2 1 1 1 1 1 2 2 1 1 2 1 1 1 1 1 2 1 1 1 1 1 2 1 1 1 1 1\n",
      " 1 1 1 1 1 1 2 2 2 1 2 2 1 1 1 1 2 2 2 1 1 2 1 1 1 2 1 1 2 1 2 1 1 1 1 2 1\n",
      " 1 2 1 1 2 2 2 1 1 1 1 2 2 1 1 1 2 1 2 1 2 1 2 2 2 1 1 1 1 2 2 1 2 1 1 1 1\n",
      " 1 1 1 2 2 1 2 1 1 2 1 1 2 2 1 2 1 1 2 1 1 1 1 1 1 2 2 2 1 1 2 2 1 2 1 2 2\n",
      " 2 1 1 1 1 2 2 1 2 1 1 1 1 1 1 2 1 2 1 2 1 1 1 2 1 2 1 2 2 1 1 1 1 1 2 2 2\n",
      " 1 1 1 1 1 2 1 2 2 2 1 1 1 1 2 1 1 2 1 2 2 1 2 1 2 2 2 1 1 1 1 1 2 1 2 2 2\n",
      " 1 1 1 1 1 2 1 2 2 1 1 2 2 2 1 1 1 2 2 2 1 1 1 2 1 1 1 2 2 1 1 2 2 1 2 1 2\n",
      " 1 1 1 2 1 1 1 2 1 2 2 2 1 1 2 1 1 1 2 1 1 2 1 2 2 1 1 1 1 1 1 1 2 1 2 1 2\n",
      " 2 1 2 1 2 1 2 1 2 2 2 1 1 2 1 1 2 2 2 2 1 1 1 1 1 1 2 2 2 2 1 1 1 1 2 1 1\n",
      " 2 2 2 1 1 2 2 2 2 1 1 1 2 2 1 1 2 2 2 2 1 1 2 1 2 1 1 1 2 2 1 1 2 1 1 2 1\n",
      " 2 1 2 2 1 2 1 2 1 1 1 2 2 1 1 1 1 2 2 1 2 1 1 2 2 2 2]\n"
     ]
    }
   ],
   "source": [
    "# prediction sobre las muestras de test\n",
    "y_pred=clf.predict(x_test_scaled) \n",
    "print(y_pred)"
   ]
  },
  {
   "cell_type": "code",
   "execution_count": 35,
   "metadata": {},
   "outputs": [
    {
     "name": "stdout",
     "output_type": "stream",
     "text": [
      "0.6355353075170843\n"
     ]
    }
   ],
   "source": [
    "# Model prediciton\n",
    "print(clf.score(x_test_scaled,y_test.ravel())) #obtenemos el promedio de la accuracy"
   ]
  },
  {
   "cell_type": "code",
   "execution_count": 36,
   "metadata": {},
   "outputs": [
    {
     "name": "stdout",
     "output_type": "stream",
     "text": [
      "El accuracy es 0.6355353075170843\n"
     ]
    }
   ],
   "source": [
    "# Computo el accuracy (comparar ytest vs ypred)\n",
    "test_acc = accuracy_score(y_test, y_pred)\n",
    "print(\"El accuracy es \" + str(test_acc))"
   ]
  },
  {
   "cell_type": "code",
   "execution_count": 37,
   "metadata": {},
   "outputs": [],
   "source": [
    "results_df = pd.DataFrame(columns=['Model','Accuracy'])"
   ]
  },
  {
   "cell_type": "code",
   "execution_count": 38,
   "metadata": {},
   "outputs": [
    {
     "data": {
      "text/html": [
       "<div>\n",
       "<style scoped>\n",
       "    .dataframe tbody tr th:only-of-type {\n",
       "        vertical-align: middle;\n",
       "    }\n",
       "\n",
       "    .dataframe tbody tr th {\n",
       "        vertical-align: top;\n",
       "    }\n",
       "\n",
       "    .dataframe thead th {\n",
       "        text-align: right;\n",
       "    }\n",
       "</style>\n",
       "<table border=\"1\" class=\"dataframe\">\n",
       "  <thead>\n",
       "    <tr style=\"text-align: right;\">\n",
       "      <th></th>\n",
       "      <th>Model</th>\n",
       "      <th>Accuracy</th>\n",
       "    </tr>\n",
       "  </thead>\n",
       "  <tbody>\n",
       "    <tr>\n",
       "      <th>0</th>\n",
       "      <td>SVM</td>\n",
       "      <td>0.635535</td>\n",
       "    </tr>\n",
       "  </tbody>\n",
       "</table>\n",
       "</div>"
      ],
      "text/plain": [
       "  Model  Accuracy\n",
       "0   SVM  0.635535"
      ]
     },
     "execution_count": 38,
     "metadata": {},
     "output_type": "execute_result"
    }
   ],
   "source": [
    "#Guardamos resultados\n",
    "results_df = results_df.append({'Model':'SVM','Accuracy':test_acc},ignore_index=True)\n",
    "results_df"
   ]
  },
  {
   "cell_type": "code",
   "execution_count": 39,
   "metadata": {},
   "outputs": [
    {
     "name": "stdout",
     "output_type": "stream",
     "text": [
      "[[  0  18  20]\n",
      " [  0 319 136]\n",
      " [  0 146 239]]\n"
     ]
    }
   ],
   "source": [
    "#Plot Confusion Matrix\n",
    "from sklearn.metrics import confusion_matrix\n",
    "cm = confusion_matrix(y_test, y_pred)\n",
    "print(cm)"
   ]
  },
  {
   "cell_type": "code",
   "execution_count": 40,
   "metadata": {},
   "outputs": [
    {
     "data": {
      "image/png": "[encoded data removed]",
      "text/plain": [
       "<Figure size 504x504 with 2 Axes>"
      ]
     },
     "metadata": {
      "needs_background": "light"
     },
     "output_type": "display_data"
    }
   ],
   "source": [
    "import matplotlib.pyplot as plt\n",
    "import seaborn as sn\n",
    "import numpy as np\n",
    "\n",
    "df_cm = pd.DataFrame(cm, index = [i for i in np.unique(y)],columns = [i for i in np.unique(y)])\n",
    "plt.figure(figsize = (7,7))\n",
    "x_axis_labels = ['Desocupado','Inactivo','Ocupado'] # labels for x-axis\n",
    "y_axis_labels = ['Desocupado','Inactivo','Ocupado'] # labels for y-axis\n",
    "ax = sn.heatmap(df_cm, annot=True, fmt=\"d\", xticklabels=x_axis_labels, yticklabels=y_axis_labels, cmap=\"YlGnBu\")\n",
    "ax.set_yticklabels (ax.get_yticklabels(), rotation=0)\n",
    "plt.title(\"Confusion Matrix SVM\",fontsize= 25)\n",
    "plt.show()"
   ]
  },
  {
   "cell_type": "code",
   "execution_count": 41,
   "metadata": {},
   "outputs": [],
   "source": [
    "from sklearn.model_selection import GridSearchCV\n",
    "parameters = {'n_neighbors':[1,5, 10,20,30,50] }\n",
    "knn = KNeighborsClassifier()\n",
    "clf_knn = GridSearchCV(knn, param_grid = parameters, refit = True, cv = 5)"
   ]
  },
  {
   "cell_type": "code",
   "execution_count": 42,
   "metadata": {},
   "outputs": [
    {
     "data": {
      "text/plain": [
       "GridSearchCV(cv=5, estimator=KNeighborsClassifier(),\n",
       "             param_grid={'n_neighbors': [1, 5, 10, 20, 30, 50]})"
      ]
     },
     "execution_count": 42,
     "metadata": {},
     "output_type": "execute_result"
    }
   ],
   "source": [
    "clf_knn.fit(x_train_scaled, y_train.ravel())"
   ]
  },
  {
   "cell_type": "code",
   "execution_count": 43,
   "metadata": {},
   "outputs": [
    {
     "name": "stdout",
     "output_type": "stream",
     "text": [
      "The best parameters are {'n_neighbors': 50} with a score of 0.63\n"
     ]
    }
   ],
   "source": [
    "print(\"The best parameters are %s with a score of %0.2f\" % (clf_knn.best_params_, clf_knn.best_score_))"
   ]
  },
  {
   "cell_type": "code",
   "execution_count": 44,
   "metadata": {},
   "outputs": [
    {
     "name": "stdout",
     "output_type": "stream",
     "text": [
      "[1 1 2 1 1 2 1 2 2 2 1 1 2 1 1 2 1 2 1 2 2 1 1 1 1 2 2 2 2 2 1 1 1 2 2 1 2\n",
      " 2 2 2 1 2 1 1 1 2 1 1 2 2 1 1 2 2 2 2 1 1 1 1 2 1 1 2 2 2 2 2 2 2 2 1 1 2\n",
      " 2 1 2 1 1 1 2 1 2 2 1 1 1 1 2 2 2 2 1 2 1 2 1 1 2 1 2 1 2 2 2 1 1 2 2 2 2\n",
      " 2 2 1 1 1 2 2 2 2 1 2 2 1 2 2 1 2 2 1 1 2 2 1 2 1 2 1 1 2 2 1 2 1 2 2 2 2\n",
      " 2 2 1 1 2 2 1 2 1 1 2 1 2 1 1 2 1 2 2 2 2 1 2 1 1 1 2 1 2 2 2 1 1 1 2 2 2\n",
      " 2 2 1 2 2 2 1 1 2 2 1 2 2 2 1 2 2 2 1 2 1 1 1 1 1 2 2 1 1 2 1 2 1 1 2 2 1\n",
      " 1 1 2 1 2 2 1 1 1 1 2 2 1 2 1 1 1 2 1 1 1 1 2 2 2 2 1 1 2 1 2 2 1 2 1 1 2\n",
      " 2 1 2 2 2 1 1 1 2 1 1 1 2 2 1 1 1 2 1 1 2 1 2 1 1 1 2 1 1 1 2 2 2 1 1 2 1\n",
      " 2 2 2 1 1 2 2 1 2 2 1 1 1 2 1 2 2 2 2 1 1 2 1 2 2 1 2 1 1 2 2 1 1 1 1 1 2\n",
      " 1 1 2 1 2 1 2 1 1 1 1 1 1 1 1 2 1 2 1 2 2 2 2 2 1 1 1 1 2 1 2 2 1 1 1 2 1\n",
      " 1 2 1 2 1 1 2 1 1 1 2 1 2 1 1 2 1 1 2 2 2 2 2 2 1 2 1 1 2 2 1 2 1 1 2 1 2\n",
      " 2 1 1 1 1 2 2 2 2 2 1 2 1 2 2 2 2 2 1 1 1 2 1 1 1 1 2 1 1 1 1 1 2 2 1 1 1\n",
      " 2 2 2 1 1 1 1 1 1 1 2 1 1 1 2 2 1 1 1 2 2 2 2 1 2 2 2 1 2 2 1 2 2 2 2 1 2\n",
      " 1 2 2 1 1 1 1 1 1 1 1 1 1 1 1 2 2 2 2 2 1 1 1 1 1 2 1 1 1 1 1 2 2 2 1 1 1\n",
      " 1 1 1 1 1 1 2 2 2 1 2 2 1 1 1 1 2 2 2 1 1 2 1 2 1 2 1 1 2 1 2 1 2 1 2 2 1\n",
      " 1 2 1 1 2 2 2 1 1 1 2 2 2 1 1 1 2 2 2 1 2 1 2 1 2 1 1 1 1 1 2 1 2 1 1 1 1\n",
      " 1 2 1 2 2 1 2 1 1 1 1 1 2 2 1 2 1 1 2 1 1 1 1 2 1 2 2 2 1 1 1 2 1 2 1 2 2\n",
      " 2 1 1 1 2 2 2 1 2 1 1 1 1 1 1 2 2 2 1 2 1 1 1 2 1 2 1 1 2 2 1 1 1 1 1 2 2\n",
      " 1 1 2 1 2 2 1 2 2 2 1 2 1 1 2 1 1 2 1 2 2 2 2 1 2 2 1 1 2 1 1 1 2 1 2 2 2\n",
      " 1 1 1 1 1 2 1 2 2 2 1 2 2 2 1 1 1 2 2 2 1 1 1 2 2 1 1 2 2 1 1 1 2 1 2 1 2\n",
      " 1 1 1 1 1 2 1 2 1 2 2 2 1 1 2 1 1 1 2 1 1 1 1 2 2 1 1 1 1 1 1 1 2 1 2 1 2\n",
      " 2 2 2 1 1 1 2 2 1 2 2 1 2 2 1 1 2 2 2 2 1 2 1 1 1 1 2 2 2 2 1 1 1 2 2 2 1\n",
      " 2 2 2 1 1 2 2 2 2 2 1 1 2 2 1 2 2 2 2 2 1 2 2 1 2 1 1 1 1 2 1 1 2 1 1 2 1\n",
      " 2 1 2 2 1 1 1 2 1 1 1 2 2 1 1 1 1 2 2 1 2 1 1 2 2 2 1]\n"
     ]
    }
   ],
   "source": [
    "# Genero predicciones con mi modelo entrenado para las muestras de Test, utilizando solo Xtest\n",
    "y_pred_knn = clf_knn.predict(x_test_scaled) \n",
    "print(y_pred_knn)"
   ]
  },
  {
   "cell_type": "code",
   "execution_count": 45,
   "metadata": {},
   "outputs": [
    {
     "name": "stdout",
     "output_type": "stream",
     "text": [
      "El accuracy es 0.6457858769931663\n"
     ]
    }
   ],
   "source": [
    "# Computo el accuracy (comparar ytest vs ypred)\n",
    "test_acc = accuracy_score(y_test, y_pred_knn)\n",
    "print(\"El accuracy es \" + str(test_acc))"
   ]
  },
  {
   "cell_type": "code",
   "execution_count": 46,
   "metadata": {},
   "outputs": [
    {
     "data": {
      "text/html": [
       "<div>\n",
       "<style scoped>\n",
       "    .dataframe tbody tr th:only-of-type {\n",
       "        vertical-align: middle;\n",
       "    }\n",
       "\n",
       "    .dataframe tbody tr th {\n",
       "        vertical-align: top;\n",
       "    }\n",
       "\n",
       "    .dataframe thead th {\n",
       "        text-align: right;\n",
       "    }\n",
       "</style>\n",
       "<table border=\"1\" class=\"dataframe\">\n",
       "  <thead>\n",
       "    <tr style=\"text-align: right;\">\n",
       "      <th></th>\n",
       "      <th>Model</th>\n",
       "      <th>Accuracy</th>\n",
       "    </tr>\n",
       "  </thead>\n",
       "  <tbody>\n",
       "    <tr>\n",
       "      <th>0</th>\n",
       "      <td>SVM</td>\n",
       "      <td>0.635535</td>\n",
       "    </tr>\n",
       "    <tr>\n",
       "      <th>1</th>\n",
       "      <td>KNN</td>\n",
       "      <td>0.645786</td>\n",
       "    </tr>\n",
       "  </tbody>\n",
       "</table>\n",
       "</div>"
      ],
      "text/plain": [
       "  Model  Accuracy\n",
       "0   SVM  0.635535\n",
       "1   KNN  0.645786"
      ]
     },
     "execution_count": 46,
     "metadata": {},
     "output_type": "execute_result"
    }
   ],
   "source": [
    "#Guardamos resultados\n",
    "results_df = results_df.append({'Model':'KNN','Accuracy':test_acc},ignore_index=True)\n",
    "results_df"
   ]
  },
  {
   "cell_type": "code",
   "execution_count": 47,
   "metadata": {},
   "outputs": [],
   "source": [
    "#Plot Confusion Matrix\n",
    "from sklearn.metrics import confusion_matrix\n",
    "cm_knn = confusion_matrix(y_test, y_pred_knn)"
   ]
  },
  {
   "cell_type": "code",
   "execution_count": 48,
   "metadata": {},
   "outputs": [
    {
     "data": {
      "image/png": "[encoded data removed]",
      "text/plain": [
       "<Figure size 504x504 with 2 Axes>"
      ]
     },
     "metadata": {
      "needs_background": "light"
     },
     "output_type": "display_data"
    }
   ],
   "source": [
    "df_cm_knn = pd.DataFrame(cm_knn, index = [i for i in np.unique(y)],columns = [i for i in np.unique(y)])\n",
    "plt.figure(figsize = (7,7))\n",
    "x_axis_labels = ['Desocupado','Inactivo','Ocupado'] # labels for x-axis\n",
    "y_axis_labels = ['Desocupado','Inactivo','Ocupado'] # labels for y-axis\n",
    "ax = sn.heatmap(df_cm_knn, annot=True, fmt=\"d\", xticklabels=x_axis_labels, yticklabels=y_axis_labels, cmap=\"YlGnBu\")\n",
    "ax.set_yticklabels (ax.get_yticklabels(), rotation=0)\n",
    "plt.title(\"Confusion Matrix KNN\",fontsize= 25)\n",
    "plt.show()"
   ]
  },
  {
   "cell_type": "code",
   "execution_count": 49,
   "metadata": {},
   "outputs": [],
   "source": [
    "from sklearn.linear_model import LogisticRegression\n",
    "parameters = {'C':[1, 10, 100, 1000],'penalty': ['l1']}\n",
    "lr_model = LogisticRegression(random_state=0, solver='saga')\n",
    "clf_lr = GridSearchCV(lr_model, param_grid = parameters, refit = True, cv = 5)"
   ]
  },
  {
   "cell_type": "code",
   "execution_count": 50,
   "metadata": {},
   "outputs": [
    {
     "data": {
      "text/plain": [
       "GridSearchCV(cv=5, estimator=LogisticRegression(random_state=0, solver='saga'),\n",
       "             param_grid={'C': [1, 10, 100, 1000], 'penalty': ['l1']})"
      ]
     },
     "execution_count": 50,
     "metadata": {},
     "output_type": "execute_result"
    }
   ],
   "source": [
    "clf_lr.fit(x_train_scaled, y_train.ravel())"
   ]
  },
  {
   "cell_type": "code",
   "execution_count": 51,
   "metadata": {},
   "outputs": [
    {
     "name": "stdout",
     "output_type": "stream",
     "text": [
      "The best parameters are {'C': 1, 'penalty': 'l1'} with a score of 0.63\n"
     ]
    }
   ],
   "source": [
    "print(\"The best parameters are %s with a score of %0.2f\" % (clf_lr.best_params_, clf_lr.best_score_))"
   ]
  },
  {
   "cell_type": "code",
   "execution_count": 52,
   "metadata": {},
   "outputs": [
    {
     "name": "stdout",
     "output_type": "stream",
     "text": [
      "[1 1 2 2 1 2 1 2 2 2 1 2 2 1 1 2 1 2 1 2 1 1 1 2 1 2 2 2 2 2 1 2 1 2 1 1 2\n",
      " 1 2 2 1 1 1 1 1 1 1 1 2 2 1 1 1 2 2 2 2 2 1 1 2 2 2 2 2 2 2 2 2 2 2 1 1 2\n",
      " 2 1 2 2 1 1 2 1 2 2 1 1 2 2 2 2 2 1 1 1 2 2 2 2 2 1 2 1 2 2 2 2 1 2 2 1 2\n",
      " 1 2 1 1 1 2 2 1 2 1 2 2 1 2 2 1 2 1 1 1 2 2 2 2 1 2 1 1 1 2 1 2 1 2 1 2 2\n",
      " 2 2 1 1 2 2 1 2 1 1 2 1 2 1 1 2 1 2 2 2 2 1 2 1 2 1 2 1 2 2 2 1 1 1 2 1 1\n",
      " 2 2 1 2 1 2 1 2 1 2 2 2 2 2 2 2 2 2 2 2 1 1 2 2 1 2 2 1 1 2 1 2 2 1 2 2 1\n",
      " 1 1 2 1 2 2 1 1 1 1 2 2 1 2 2 1 1 2 1 1 1 1 2 1 2 1 1 1 2 2 2 2 1 2 1 1 2\n",
      " 2 1 2 2 2 1 1 1 2 1 1 1 2 2 1 1 1 2 1 1 2 2 2 1 2 1 2 1 1 1 2 2 2 1 1 1 1\n",
      " 1 2 2 1 1 1 2 1 1 2 1 2 1 2 2 2 2 2 2 1 1 2 1 2 2 2 2 2 1 2 1 1 2 1 2 1 2\n",
      " 1 2 1 1 2 1 2 1 2 1 1 1 1 1 2 2 1 2 1 2 2 2 2 2 1 1 1 1 1 1 1 2 1 1 1 2 1\n",
      " 1 2 1 2 1 1 1 2 1 1 2 1 2 1 1 2 1 2 1 2 2 2 2 2 1 2 1 1 2 2 1 1 1 2 2 1 2\n",
      " 2 1 1 1 2 2 1 2 1 2 1 2 1 2 1 2 2 2 1 1 1 2 1 1 2 1 2 1 1 2 1 1 2 2 1 2 1\n",
      " 1 1 2 1 1 1 1 1 1 1 2 1 2 1 2 1 1 1 1 2 2 2 2 1 2 2 2 2 1 1 1 1 2 2 1 1 2\n",
      " 2 1 2 1 1 1 1 1 1 2 1 1 1 1 1 2 1 1 1 2 1 1 1 1 1 2 1 1 1 1 1 2 2 1 1 1 1\n",
      " 1 2 2 1 1 1 2 2 2 1 2 2 1 1 1 1 2 2 2 1 1 2 1 1 1 2 1 1 1 1 2 1 2 1 1 2 2\n",
      " 1 2 1 1 2 2 2 1 1 1 2 2 2 1 1 1 2 2 2 1 2 1 2 2 2 2 1 1 1 2 2 1 1 1 2 1 1\n",
      " 1 1 1 2 2 1 2 1 1 2 1 1 1 2 1 2 1 1 2 1 1 1 1 1 1 2 2 2 1 1 2 2 1 2 1 2 2\n",
      " 2 1 1 2 2 2 2 1 2 1 1 1 1 1 1 2 2 2 2 2 1 1 1 2 1 1 1 2 1 1 1 1 1 2 2 2 2\n",
      " 1 1 2 1 1 2 1 2 2 2 1 2 1 1 1 1 1 2 1 2 2 2 2 1 2 1 2 1 1 1 1 1 2 2 2 2 1\n",
      " 1 1 1 1 1 2 1 2 2 2 1 2 2 2 1 1 1 2 2 2 1 1 2 2 1 1 1 2 2 1 1 1 2 1 2 1 2\n",
      " 1 1 1 1 1 1 1 2 1 2 1 2 1 1 2 1 1 1 2 1 1 2 1 2 1 1 1 1 1 1 1 1 2 1 2 1 1\n",
      " 2 1 2 1 2 1 2 2 1 2 2 1 1 2 1 1 2 2 2 2 1 2 1 1 2 1 2 2 2 1 1 1 1 2 2 1 1\n",
      " 2 2 2 2 2 2 2 2 2 1 2 1 2 2 1 2 2 2 2 2 1 2 2 1 2 1 1 1 2 2 1 2 2 2 1 2 1\n",
      " 2 1 2 2 1 2 1 2 1 1 1 2 2 1 1 1 1 2 2 1 2 1 1 2 2 1 2]\n"
     ]
    }
   ],
   "source": [
    "# Genero predicciones con mi modelo entrenado para las muestras de Test, utilizando solo Xtest\n",
    "y_pred_lr = clf_lr.predict(x_test_scaled) \n",
    "print(y_pred_lr)"
   ]
  },
  {
   "cell_type": "code",
   "execution_count": 53,
   "metadata": {},
   "outputs": [
    {
     "name": "stdout",
     "output_type": "stream",
     "text": [
      "El accuracy es 0.6275626423690205\n"
     ]
    }
   ],
   "source": [
    "# Computo el accuracy (comparar ytest vs ypred)\n",
    "test_acc = accuracy_score(y_test, y_pred_lr)\n",
    "print(\"El accuracy es \" + str(test_acc))"
   ]
  },
  {
   "cell_type": "code",
   "execution_count": 54,
   "metadata": {},
   "outputs": [
    {
     "data": {
      "text/html": [
       "<div>\n",
       "<style scoped>\n",
       "    .dataframe tbody tr th:only-of-type {\n",
       "        vertical-align: middle;\n",
       "    }\n",
       "\n",
       "    .dataframe tbody tr th {\n",
       "        vertical-align: top;\n",
       "    }\n",
       "\n",
       "    .dataframe thead th {\n",
       "        text-align: right;\n",
       "    }\n",
       "</style>\n",
       "<table border=\"1\" class=\"dataframe\">\n",
       "  <thead>\n",
       "    <tr style=\"text-align: right;\">\n",
       "      <th></th>\n",
       "      <th>Model</th>\n",
       "      <th>Accuracy</th>\n",
       "    </tr>\n",
       "  </thead>\n",
       "  <tbody>\n",
       "    <tr>\n",
       "      <th>0</th>\n",
       "      <td>SVM</td>\n",
       "      <td>0.635535</td>\n",
       "    </tr>\n",
       "    <tr>\n",
       "      <th>1</th>\n",
       "      <td>KNN</td>\n",
       "      <td>0.645786</td>\n",
       "    </tr>\n",
       "    <tr>\n",
       "      <th>2</th>\n",
       "      <td>LReg</td>\n",
       "      <td>0.627563</td>\n",
       "    </tr>\n",
       "  </tbody>\n",
       "</table>\n",
       "</div>"
      ],
      "text/plain": [
       "  Model  Accuracy\n",
       "0   SVM  0.635535\n",
       "1   KNN  0.645786\n",
       "2  LReg  0.627563"
      ]
     },
     "execution_count": 54,
     "metadata": {},
     "output_type": "execute_result"
    }
   ],
   "source": [
    "#Guardamos resultados\n",
    "results_df = results_df.append({'Model':'LReg','Accuracy':test_acc},ignore_index=True)\n",
    "results_df"
   ]
  },
  {
   "cell_type": "code",
   "execution_count": 55,
   "metadata": {},
   "outputs": [],
   "source": [
    "#Plot Confusion Matrix\n",
    "from sklearn.metrics import confusion_matrix\n",
    "cm_lr = confusion_matrix(y_test, y_pred_lr)"
   ]
  },
  {
   "cell_type": "code",
   "execution_count": 56,
   "metadata": {},
   "outputs": [
    {
     "data": {
      "image/png": "[encoded data removed]",
      "text/plain": [
       "<Figure size 504x504 with 2 Axes>"
      ]
     },
     "metadata": {
      "needs_background": "light"
     },
     "output_type": "display_data"
    }
   ],
   "source": [
    "df_cm_lr = pd.DataFrame(cm_lr, index = [i for i in np.unique(y)],columns = [i for i in np.unique(y)])\n",
    "plt.figure(figsize = (7,7))\n",
    "x_axis_labels = ['Desocupado','Inactivo','Ocupado'] # labels for x-axis\n",
    "y_axis_labels = ['Desocupado','Inactivo','Ocupado'] # labels for y-axis\n",
    "ax = sn.heatmap(df_cm_lr, annot=True, fmt=\"d\", xticklabels=x_axis_labels, yticklabels=y_axis_labels, cmap=\"YlGnBu\")\n",
    "ax.set_yticklabels (ax.get_yticklabels(), rotation=0)\n",
    "plt.title(\"Confusion Matrix Logistic Regresion\",fontsize= 25)\n",
    "plt.show()"
   ]
  },
  {
   "cell_type": "markdown",
   "metadata": {},
   "source": [
    "## RESULTADOS"
   ]
  },
  {
   "cell_type": "code",
   "execution_count": 57,
   "metadata": {},
   "outputs": [
    {
     "data": {
      "text/html": [
       "<div>\n",
       "<style scoped>\n",
       "    .dataframe tbody tr th:only-of-type {\n",
       "        vertical-align: middle;\n",
       "    }\n",
       "\n",
       "    .dataframe tbody tr th {\n",
       "        vertical-align: top;\n",
       "    }\n",
       "\n",
       "    .dataframe thead th {\n",
       "        text-align: right;\n",
       "    }\n",
       "</style>\n",
       "<table border=\"1\" class=\"dataframe\">\n",
       "  <thead>\n",
       "    <tr style=\"text-align: right;\">\n",
       "      <th></th>\n",
       "      <th>Model</th>\n",
       "      <th>Accuracy</th>\n",
       "    </tr>\n",
       "  </thead>\n",
       "  <tbody>\n",
       "    <tr>\n",
       "      <th>0</th>\n",
       "      <td>SVM</td>\n",
       "      <td>0.635535</td>\n",
       "    </tr>\n",
       "    <tr>\n",
       "      <th>1</th>\n",
       "      <td>KNN</td>\n",
       "      <td>0.645786</td>\n",
       "    </tr>\n",
       "    <tr>\n",
       "      <th>2</th>\n",
       "      <td>LReg</td>\n",
       "      <td>0.627563</td>\n",
       "    </tr>\n",
       "  </tbody>\n",
       "</table>\n",
       "</div>"
      ],
      "text/plain": [
       "  Model  Accuracy\n",
       "0   SVM  0.635535\n",
       "1   KNN  0.645786\n",
       "2  LReg  0.627563"
      ]
     },
     "execution_count": 57,
     "metadata": {},
     "output_type": "execute_result"
    }
   ],
   "source": [
    "# Accuracy en tabla\n",
    "\n",
    "results_df"
   ]
  },
  {
   "cell_type": "code",
   "execution_count": 58,
   "metadata": {},
   "outputs": [],
   "source": [
    "results = pd.DataFrame(columns=['Model','RSME','MSE','MAE'])"
   ]
  },
  {
   "cell_type": "code",
   "execution_count": 59,
   "metadata": {},
   "outputs": [
    {
     "data": {
      "text/html": [
       "<div>\n",
       "<style scoped>\n",
       "    .dataframe tbody tr th:only-of-type {\n",
       "        vertical-align: middle;\n",
       "    }\n",
       "\n",
       "    .dataframe tbody tr th {\n",
       "        vertical-align: top;\n",
       "    }\n",
       "\n",
       "    .dataframe thead th {\n",
       "        text-align: right;\n",
       "    }\n",
       "</style>\n",
       "<table border=\"1\" class=\"dataframe\">\n",
       "  <thead>\n",
       "    <tr style=\"text-align: right;\">\n",
       "      <th></th>\n",
       "      <th>Model</th>\n",
       "      <th>RSME</th>\n",
       "      <th>MSE</th>\n",
       "      <th>MAE</th>\n",
       "    </tr>\n",
       "  </thead>\n",
       "  <tbody>\n",
       "    <tr>\n",
       "      <th>0</th>\n",
       "      <td>SVR</td>\n",
       "      <td>0.657877</td>\n",
       "      <td>0.432802</td>\n",
       "      <td>0.387244</td>\n",
       "    </tr>\n",
       "    <tr>\n",
       "      <th>1</th>\n",
       "      <td>KNN</td>\n",
       "      <td>0.665622</td>\n",
       "      <td>0.443052</td>\n",
       "      <td>0.383827</td>\n",
       "    </tr>\n",
       "    <tr>\n",
       "      <th>2</th>\n",
       "      <td>LReg</td>\n",
       "      <td>0.674123</td>\n",
       "      <td>0.454442</td>\n",
       "      <td>0.399772</td>\n",
       "    </tr>\n",
       "  </tbody>\n",
       "</table>\n",
       "</div>"
      ],
      "text/plain": [
       "  Model      RSME       MSE       MAE\n",
       "0   SVR  0.657877  0.432802  0.387244\n",
       "1   KNN  0.665622  0.443052  0.383827\n",
       "2  LReg  0.674123  0.454442  0.399772"
      ]
     },
     "execution_count": 59,
     "metadata": {},
     "output_type": "execute_result"
    }
   ],
   "source": [
    "from sklearn.metrics import r2_score, mean_squared_error, mean_absolute_error\n",
    "\n",
    "svm_rsme = np.sqrt(mean_squared_error(y_test, y_pred))\n",
    "svm_mse = mean_squared_error(y_true=y_test, y_pred=y_pred)\n",
    "svm_mae = mean_absolute_error(y_true=y_test, y_pred=y_pred)\n",
    "\n",
    "results = results.append({'Model':'SVR',\n",
    "                                'RSME':svm_rsme,\n",
    "                                'MSE':svm_mse,\n",
    "                                'MAE':svm_mae},ignore_index=True)\n",
    "\n",
    "knn_rsme = np.sqrt(mean_squared_error(y_test, y_pred_knn))\n",
    "knn_mse = mean_squared_error(y_true=y_test, y_pred=y_pred_knn)\n",
    "knn_mae = mean_absolute_error(y_true=y_test, y_pred=y_pred_knn)\n",
    "\n",
    "results = results.append({'Model':'KNN',\n",
    "                                'RSME':knn_rsme,\n",
    "                                'MSE':knn_mse,\n",
    "                                'MAE':knn_mae},ignore_index=True)\n",
    "\n",
    "lr_rsme = np.sqrt(mean_squared_error(y_test, y_pred_lr))\n",
    "lr_mse = mean_squared_error(y_true=y_test, y_pred=y_pred_lr)\n",
    "lr_mae = mean_absolute_error(y_true=y_test, y_pred=y_pred_lr)\n",
    "\n",
    "results = results.append({'Model':'LReg',\n",
    "                                'RSME':lr_rsme,\n",
    "                                'MSE':lr_mse,\n",
    "                                'MAE':lr_mae},ignore_index=True)\n",
    "results\n",
    "\n",
    "\n"
   ]
  },
  {
   "cell_type": "markdown",
   "metadata": {},
   "source": [
    "## Heatmap para cada Modelo"
   ]
  },
  {
   "cell_type": "code",
   "execution_count": 60,
   "metadata": {},
   "outputs": [
    {
     "data": {
      "image/png": "[encoded data removed]",
      "text/plain": [
       "<Figure size 504x504 with 2 Axes>"
      ]
     },
     "metadata": {
      "needs_background": "light"
     },
     "output_type": "display_data"
    },
    {
     "data": {
      "image/png": "[encoded data removed]",
      "text/plain": [
       "<Figure size 504x504 with 2 Axes>"
      ]
     },
     "metadata": {
      "needs_background": "light"
     },
     "output_type": "display_data"
    },
    {
     "data": {
      "image/png": "[encoded data removed]",
      "text/plain": [
       "<Figure size 504x504 with 2 Axes>"
      ]
     },
     "metadata": {
      "needs_background": "light"
     },
     "output_type": "display_data"
    }
   ],
   "source": [
    "df_cm = pd.DataFrame(cm, index = [i for i in np.unique(y)],columns = [i for i in np.unique(y)])\n",
    "plt.figure(figsize = (7,7))\n",
    "x_axis_labels = ['Desocupado','Inactivo','Ocupado'] # labels for x-axis\n",
    "y_axis_labels = ['Desocupado','Inactivo','Ocupado'] # labels for y-axis\n",
    "ax = sn.heatmap(df_cm, annot=True, fmt=\"d\", xticklabels=x_axis_labels, yticklabels=y_axis_labels, cmap=\"YlGnBu\")\n",
    "ax.set_yticklabels (ax.get_yticklabels(), rotation=0)\n",
    "plt.title(\"Confusion Matrix SVM\",fontsize= 25)\n",
    "\n",
    "df_cm_knn = pd.DataFrame(cm_knn, index = [i for i in np.unique(y)],columns = [i for i in np.unique(y)])\n",
    "plt.figure(figsize = (7,7))\n",
    "x_axis_labels = ['Desocupado','Inactivo','Ocupado'] # labels for x-axis\n",
    "y_axis_labels = ['Desocupado','Inactivo','Ocupado'] # labels for y-axis\n",
    "ax = sn.heatmap(df_cm_knn, annot=True, fmt=\"d\", xticklabels=x_axis_labels, yticklabels=y_axis_labels, cmap=\"YlGnBu\")\n",
    "ax.set_yticklabels (ax.get_yticklabels(), rotation=0)\n",
    "plt.title(\"Confusion Matrix KNN\",fontsize= 25)\n",
    "\n",
    "df_cm_lr = pd.DataFrame(cm_lr, index = [i for i in np.unique(y)],columns = [i for i in np.unique(y)])\n",
    "plt.figure(figsize = (7,7))\n",
    "x_axis_labels = ['Desocupado','Inactivo','Ocupado'] # labels for x-axis\n",
    "y_axis_labels = ['Desocupado','Inactivo','Ocupado'] # labels for y-axis\n",
    "ax = sn.heatmap(df_cm_lr, annot=True, fmt=\"d\", xticklabels=x_axis_labels, yticklabels=y_axis_labels, cmap=\"YlGnBu\")\n",
    "ax.set_yticklabels (ax.get_yticklabels(), rotation=0)\n",
    "plt.title(\"Confusion Matrix Logistic Regresion\",fontsize= 25)\n",
    "plt.show()"
   ]
  }
 ],
 "metadata": {
  "kernelspec": {
   "display_name": "Python 3",
   "language": "python",
   "name": "python3"
  },
  "language_info": {
   "codemirror_mode": {
    "name": "ipython",
    "version": 3
   },
   "file_extension": ".py",
   "mimetype": "text/x-python",
   "name": "python",
   "nbconvert_exporter": "python",
   "pygments_lexer": "ipython3",
   "version": "3.8.3"
  }
 },
 "nbformat": 4,
 "nbformat_minor": 4
}
